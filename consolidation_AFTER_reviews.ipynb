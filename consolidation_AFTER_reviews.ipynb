{
 "cells": [
  {
   "cell_type": "code",
   "execution_count": 12,
   "id": "c15d08bd",
   "metadata": {},
   "outputs": [],
   "source": [
    "from s2h_utils import *\n",
    "import time"
   ]
  },
  {
   "cell_type": "code",
   "execution_count": 40,
   "id": "2663351e",
   "metadata": {},
   "outputs": [
    {
     "name": "stderr",
     "output_type": "stream",
     "text": [
      "ERROR: Could not find a version that satisfies the requirement st-radial (from versions: none)\n",
      "ERROR: No matching distribution found for st-radial\n"
     ]
    }
   ],
   "source": [
    "!pip install st-radial"
   ]
  },
  {
   "cell_type": "markdown",
   "id": "c95dca34",
   "metadata": {},
   "source": [
    "J'ai gardé ici les quelques étapes pour resoudre l'exercice grace aux differents reviews que j'ai faits"
   ]
  },
  {
   "cell_type": "markdown",
   "id": "a4b9ec15",
   "metadata": {},
   "source": [
    "## Load data"
   ]
  },
  {
   "cell_type": "code",
   "execution_count": 36,
   "id": "f1cfc480",
   "metadata": {},
   "outputs": [],
   "source": [
    "data  = pd.read_excel(r\"C:\\Users\\sawal\\OneDrive - UPEC\\Diot-Siaci\\spro-main\\Tests\\Exercice_2_Arslene_Abdi\\data_at.xlsx\")[[\"id\", \"DT_DEB_PER_INA\",\"DT_FIN_PER_INA\", \"LIB_MTF_PER_INA\"]]\n",
    "data.columns = [\"id\", \"date_debut\", \"date_fin\", \"motif\"]\n",
    "data['date_debut'] = pd.to_datetime(data['date_debut'],  format = '%Y-%m-%d')\n",
    "data['date_fin'] = pd.to_datetime(data['date_fin'],  format='%Y-%m-%d')"
   ]
  },
  {
   "cell_type": "markdown",
   "id": "0e84e6dc",
   "metadata": {},
   "source": [
    "# External data"
   ]
  },
  {
   "cell_type": "code",
   "execution_count": 37,
   "id": "b0592049",
   "metadata": {},
   "outputs": [],
   "source": [
    "external_df = data\n",
    "external_df['date'] = external_df.apply(lambda x: pd.date_range(x.date_debut, x.date_fin, freq='1d'), axis=1)\n",
    "# explode  and drop duplicates: from wide to long data\n",
    "external_df = external_df.explode('date')[[\"id\",\"date\", \"motif\"]]\n",
    "external_df = external_df.drop_duplicates()\n",
    "external_df.to_pickle(\"./OUTPUT/presence_external.pkl\")"
   ]
  },
  {
   "cell_type": "markdown",
   "id": "fed60e90",
   "metadata": {},
   "source": [
    "## REORGANISATION et traitements des anomalies"
   ]
  },
  {
   "cell_type": "code",
   "execution_count": 29,
   "id": "60023806",
   "metadata": {},
   "outputs": [
    {
     "name": "stdout",
     "output_type": "stream",
     "text": [
      "The algorithm stopped after 4 iterations\n"
     ]
    }
   ],
   "source": [
    "start = time.time()\n",
    "data = reorganisation_all(data)\n",
    "data.to_pickle(\"./OUTPUT/presence_anomalies.pkl\")"
   ]
  },
  {
   "cell_type": "markdown",
   "id": "37db8d57",
   "metadata": {},
   "source": [
    "## generation des tables de presence par jours & aggrégé par mois"
   ]
  },
  {
   "cell_type": "code",
   "execution_count": 38,
   "id": "190a7b9d",
   "metadata": {},
   "outputs": [],
   "source": [
    "dates_presence = data\n",
    "dates_presence['date'] = dates_presence.apply(lambda x: pd.date_range(x.date_debut, x.date_fin, freq='1d'), axis=1)\t\n",
    "# explode  and drop duplicates: from wide to long data\n",
    "dates_presence = dates_presence.explode('date')[[\"id\",\"date\"]].drop_duplicates()\n",
    "dates_presence['presence'] = 1\n",
    "\n",
    "# GENERATE CALENDAR DATES GIVEN MIN  AND MAX  DATES\n",
    "baseline = data\n",
    "baseline = baseline.groupby(\"id\").agg({'date_debut':'min', 'date_fin':'max'}).reset_index()\n",
    "baseline['date'] = baseline.apply(lambda x: pd.date_range(x.date_debut, x.date_fin, freq='1d'), axis=1)\n",
    "baseline= baseline.explode('date')[[\"id\",\"date\"]].drop_duplicates()\n",
    "baseline = baseline[baseline['date'].dt.dayofweek<5] # REMOVING SATURDAY AND SUNDAY\n",
    "\n",
    "# JOIN two datasets \n",
    "dates_presence = pd.merge(baseline, dates_presence, on =['date', 'id'], how='left')\n",
    "dates_presence['presence'] = dates_presence['presence'].fillna(0)\n",
    "dates_presence[\"year_month\"] = dates_presence.date.dt.strftime(\"%Y-%m\")\n",
    "dates_presence_agg = dates_presence.groupby([\"year_month\", \"id\"]).agg({'presence' : 'sum'}).reset_index().sort_values(\"id\")\n",
    "dates_presence_agg[\"presence\"] = dates_presence_agg[\"presence\"].astype(int)"
   ]
  },
  {
   "cell_type": "code",
   "execution_count": 39,
   "id": "631a1fe1",
   "metadata": {},
   "outputs": [],
   "source": [
    "dates_presence = pd.merge(dates_presence, pd.read_pickle( \"./OUTPUT/presence_external.pkl\"),\n",
    "         on =['id', 'date'],\n",
    "        how=\"left\").drop_duplicates([\"id\",\"date\",\"presence\"])\n",
    "\n",
    "dates_presence.motif  = dates_presence.motif.fillna(\"NA\")\n",
    "dates_presence.to_pickle(\"./OUTPUT/presence_indcator.pkl\")"
   ]
  },
  {
   "cell_type": "code",
   "execution_count": 9,
   "id": "af2f73b1",
   "metadata": {},
   "outputs": [
    {
     "data": {
      "text/plain": [
       "0         False\n",
       "1          True\n",
       "2          True\n",
       "3          True\n",
       "4          True\n",
       "          ...  \n",
       "364326     True\n",
       "364327     True\n",
       "364328     True\n",
       "364329    False\n",
       "364330    False\n",
       "Name: date, Length: 361554, dtype: bool"
      ]
     },
     "execution_count": 9,
     "metadata": {},
     "output_type": "execute_result"
    }
   ],
   "source": [
    "dates_presence.date.dt.dayofweek<5"
   ]
  },
  {
   "cell_type": "code",
   "execution_count": 55,
   "id": "83fc3be7",
   "metadata": {},
   "outputs": [
    {
     "data": {
      "application/vnd.plotly.v1+json": {
       "config": {
        "plotlyServerURL": "https://plot.ly"
       },
       "data": [
        {
         "alignmentgroup": "True",
         "hovertemplate": "motif=maladie<br>year_month=%{x}<br>mois=%{y}<extra></extra>",
         "legendgroup": "maladie",
         "marker": {
          "color": "#636efa",
          "pattern": {
           "shape": ""
          }
         },
         "name": "maladie",
         "offsetgroup": "maladie",
         "orientation": "v",
         "showlegend": true,
         "textposition": "auto",
         "type": "bar",
         "x": [
          "2013-09",
          "2013-10",
          "2013-11",
          "2013-12",
          "2014-01",
          "2014-02",
          "2014-03",
          "2014-04",
          "2014-05",
          "2014-06",
          "2014-07",
          "2014-08",
          "2014-09",
          "2014-10",
          "2014-11",
          "2014-12",
          "2015-01",
          "2015-02",
          "2015-03",
          "2015-04",
          "2015-05",
          "2015-06",
          "2015-07",
          "2015-08",
          "2015-09",
          "2015-10",
          "2015-11",
          "2015-12",
          "2016-01",
          "2016-02",
          "2016-03",
          "2016-04",
          "2016-05",
          "2016-06",
          "2016-07",
          "2016-08",
          "2016-09",
          "2016-10",
          "2016-11",
          "2016-12",
          "2017-01",
          "2017-02",
          "2017-03",
          "2017-04",
          "2017-05",
          "2017-06",
          "2017-07",
          "2017-08",
          "2017-09",
          "2017-10",
          "2017-11",
          "2017-12",
          "2018-01",
          "2018-02",
          "2018-03",
          "2018-04",
          "2018-05",
          "2018-06",
          "2018-07",
          "2018-08",
          "2018-09",
          "2018-10",
          "2018-11",
          "2018-12",
          "2019-01",
          "2019-02",
          "2019-03",
          "2019-04",
          "2019-05",
          "2019-06",
          "2019-07",
          "2019-08",
          "2019-09",
          "2019-10",
          "2019-11",
          "2019-12",
          "2020-01",
          "2020-02",
          "2020-03",
          "2020-04",
          "2020-05",
          "2020-06",
          "2020-07",
          "2020-08",
          "2020-09",
          "2020-10",
          "2020-11",
          "2020-12",
          "2021-01",
          "2021-02",
          "2021-03",
          "2021-04",
          "2021-05",
          "2021-06",
          "2021-07",
          "2021-08",
          "2021-09",
          "2021-10",
          "2021-11",
          "2021-12",
          "2022-01",
          "2022-02",
          "2022-03",
          "2022-04",
          "2022-05",
          "2022-06",
          "2022-07",
          "2022-08",
          "2022-09",
          "2022-10",
          "2022-11",
          "2022-12"
         ],
         "xaxis": "x",
         "y": [
          9,
          31,
          30,
          31,
          31,
          28,
          31,
          30,
          31,
          30,
          31,
          31,
          30,
          31,
          30,
          31,
          31,
          28,
          31,
          30,
          31,
          30,
          31,
          31,
          30,
          31,
          30,
          31,
          60,
          58,
          62,
          60,
          62,
          60,
          62,
          62,
          85,
          101,
          105,
          183,
          249,
          263,
          402,
          523,
          440,
          402,
          292,
          263,
          344,
          390,
          450,
          476,
          415,
          443,
          505,
          456,
          442,
          489,
          494,
          358,
          454,
          627,
          607,
          584,
          621,
          607,
          568,
          524,
          524,
          562,
          548,
          429,
          495,
          514,
          568,
          614,
          612,
          466,
          1592,
          1726,
          720,
          531,
          467,
          395,
          489,
          550,
          515,
          570,
          442,
          422,
          418,
          510,
          380,
          398,
          402,
          378,
          502,
          554,
          581,
          897,
          994,
          1060,
          1017,
          1031,
          875,
          904,
          748,
          584,
          154,
          62,
          43,
          8
         ],
         "yaxis": "y"
        },
        {
         "alignmentgroup": "True",
         "hovertemplate": "motif=congé suite à un accident de trajet<br>year_month=%{x}<br>mois=%{y}<extra></extra>",
         "legendgroup": "congé suite à un accident de trajet",
         "marker": {
          "color": "#EF553B",
          "pattern": {
           "shape": ""
          }
         },
         "name": "congé suite à un accident de trajet",
         "offsetgroup": "congé suite à un accident de trajet",
         "orientation": "v",
         "showlegend": true,
         "textposition": "auto",
         "type": "bar",
         "x": [
          "2014-10",
          "2014-11",
          "2014-12",
          "2015-01",
          "2015-02",
          "2015-03",
          "2015-04",
          "2015-05",
          "2015-06",
          "2015-07",
          "2015-08",
          "2015-09",
          "2015-10",
          "2015-11",
          "2015-12",
          "2016-01",
          "2016-02",
          "2016-03",
          "2016-04",
          "2016-05",
          "2016-06",
          "2016-07",
          "2016-08",
          "2016-09",
          "2016-10",
          "2016-11",
          "2016-12",
          "2017-01",
          "2017-02",
          "2017-03",
          "2017-04",
          "2017-05",
          "2017-06",
          "2017-07",
          "2017-08",
          "2017-09",
          "2017-10",
          "2017-11",
          "2017-12",
          "2018-01",
          "2018-02",
          "2018-03",
          "2018-04",
          "2018-05",
          "2018-06",
          "2018-07",
          "2018-08",
          "2018-09",
          "2018-10",
          "2018-11",
          "2018-12",
          "2019-01",
          "2019-02",
          "2019-03",
          "2020-12",
          "2021-09",
          "2022-06"
         ],
         "xaxis": "x",
         "y": [
          8,
          30,
          31,
          31,
          28,
          31,
          30,
          31,
          30,
          31,
          31,
          30,
          31,
          30,
          31,
          31,
          29,
          31,
          30,
          31,
          30,
          31,
          31,
          30,
          31,
          30,
          31,
          31,
          28,
          31,
          30,
          31,
          30,
          31,
          31,
          30,
          31,
          30,
          31,
          31,
          28,
          31,
          33,
          44,
          30,
          31,
          31,
          30,
          31,
          30,
          31,
          31,
          28,
          31,
          5,
          4,
          2
         ],
         "yaxis": "y"
        },
        {
         "alignmentgroup": "True",
         "hovertemplate": "motif=annulation<br>year_month=%{x}<br>mois=%{y}<extra></extra>",
         "legendgroup": "annulation",
         "marker": {
          "color": "#00cc96",
          "pattern": {
           "shape": ""
          }
         },
         "name": "annulation",
         "offsetgroup": "annulation",
         "orientation": "v",
         "showlegend": true,
         "textposition": "auto",
         "type": "bar",
         "x": [
          "2016-09",
          "2016-10",
          "2016-11",
          "2016-12",
          "2017-01",
          "2017-02",
          "2017-03"
         ],
         "xaxis": "x",
         "y": [
          1,
          17,
          8,
          5,
          48,
          28,
          9
         ],
         "yaxis": "y"
        },
        {
         "alignmentgroup": "True",
         "hovertemplate": "motif=NA<br>year_month=%{x}<br>mois=%{y}<extra></extra>",
         "legendgroup": "NA",
         "marker": {
          "color": "#ab63fa",
          "pattern": {
           "shape": ""
          }
         },
         "name": "NA",
         "offsetgroup": "NA",
         "orientation": "v",
         "showlegend": true,
         "textposition": "auto",
         "type": "bar",
         "x": [
          "2016-11",
          "2016-12",
          "2017-01",
          "2017-02",
          "2017-03",
          "2017-04",
          "2017-05",
          "2017-06",
          "2017-07",
          "2017-08",
          "2017-09",
          "2017-10",
          "2017-11",
          "2017-12",
          "2018-01",
          "2018-02",
          "2018-03",
          "2018-04",
          "2018-05",
          "2018-06",
          "2018-07",
          "2018-08",
          "2018-09",
          "2018-10",
          "2018-11",
          "2018-12",
          "2019-01",
          "2019-02",
          "2019-03",
          "2019-04",
          "2019-05",
          "2019-06",
          "2019-07",
          "2019-08",
          "2019-09",
          "2019-10",
          "2019-11",
          "2019-12",
          "2020-01",
          "2020-02",
          "2020-03",
          "2020-04",
          "2020-05",
          "2020-06",
          "2020-07",
          "2020-08",
          "2020-09",
          "2020-10",
          "2020-11",
          "2020-12",
          "2021-01",
          "2021-02",
          "2021-03",
          "2021-04",
          "2021-05",
          "2021-06",
          "2021-07",
          "2021-08",
          "2021-09",
          "2021-10",
          "2021-11",
          "2021-12",
          "2022-01",
          "2022-02",
          "2022-03",
          "2022-04",
          "2022-05",
          "2022-06",
          "2022-07",
          "2022-08"
         ],
         "xaxis": "x",
         "y": [
          36,
          62,
          43,
          54,
          148,
          435,
          935,
          1305,
          1614,
          1749,
          1844,
          2137,
          2324,
          2810,
          3211,
          3130,
          3806,
          4027,
          4324,
          4317,
          4700,
          4911,
          4772,
          5016,
          4992,
          5387,
          5527,
          5229,
          5911,
          5805,
          6122,
          5891,
          6282,
          6422,
          6185,
          6451,
          6363,
          6686,
          6747,
          6514,
          5934,
          5634,
          6662,
          6574,
          6814,
          6868,
          6525,
          6656,
          6413,
          6593,
          6637,
          5948,
          6629,
          6243,
          6568,
          6328,
          6543,
          6508,
          6154,
          6130,
          5919,
          5740,
          5338,
          4134,
          3998,
          2872,
          2289,
          1490,
          619,
          85
         ],
         "yaxis": "y"
        },
        {
         "alignmentgroup": "True",
         "hovertemplate": "motif=maternité / adoption<br>year_month=%{x}<br>mois=%{y}<extra></extra>",
         "legendgroup": "maternité / adoption",
         "marker": {
          "color": "#FFA15A",
          "pattern": {
           "shape": ""
          }
         },
         "name": "maternité / adoption",
         "offsetgroup": "maternité / adoption",
         "orientation": "v",
         "showlegend": true,
         "textposition": "auto",
         "type": "bar",
         "x": [
          "2016-12",
          "2017-01",
          "2017-02",
          "2017-03",
          "2017-04",
          "2019-07",
          "2019-08",
          "2019-09",
          "2019-10",
          "2019-11",
          "2019-12",
          "2020-07",
          "2020-08",
          "2020-09",
          "2020-10",
          "2020-11",
          "2020-12",
          "2021-05",
          "2021-06",
          "2021-07",
          "2021-08",
          "2021-09",
          "2021-10",
          "2021-11"
         ],
         "xaxis": "x",
         "y": [
          9,
          31,
          28,
          31,
          25,
          6,
          31,
          27,
          31,
          30,
          24,
          1,
          52,
          60,
          62,
          49,
          2,
          30,
          30,
          35,
          52,
          30,
          31,
          16
         ],
         "yaxis": "y"
        },
        {
         "alignmentgroup": "True",
         "hovertemplate": "motif=congé suite à maladie professionnelle<br>year_month=%{x}<br>mois=%{y}<extra></extra>",
         "legendgroup": "congé suite à maladie professionnelle",
         "marker": {
          "color": "#19d3f3",
          "pattern": {
           "shape": ""
          }
         },
         "name": "congé suite à maladie professionnelle",
         "offsetgroup": "congé suite à maladie professionnelle",
         "orientation": "v",
         "showlegend": true,
         "textposition": "auto",
         "type": "bar",
         "x": [
          "2017-01",
          "2017-02",
          "2017-03",
          "2017-04",
          "2017-05",
          "2017-09",
          "2017-10",
          "2018-11",
          "2018-12",
          "2019-01",
          "2019-02",
          "2019-03",
          "2019-04",
          "2019-05",
          "2019-06",
          "2019-07",
          "2019-08",
          "2019-09",
          "2019-10",
          "2020-06",
          "2020-07",
          "2020-08",
          "2020-12",
          "2021-11",
          "2021-12",
          "2022-01",
          "2022-02",
          "2022-03",
          "2022-04",
          "2022-05",
          "2022-06",
          "2022-07",
          "2022-08"
         ],
         "xaxis": "x",
         "y": [
          4,
          28,
          31,
          30,
          18,
          18,
          22,
          12,
          29,
          12,
          30,
          84,
          60,
          31,
          30,
          31,
          31,
          30,
          31,
          15,
          31,
          31,
          1,
          9,
          31,
          31,
          28,
          31,
          30,
          31,
          30,
          31,
          31
         ],
         "yaxis": "y"
        },
        {
         "alignmentgroup": "True",
         "hovertemplate": "motif=congé suite à accident de travail ou de service<br>year_month=%{x}<br>mois=%{y}<extra></extra>",
         "legendgroup": "congé suite à accident de travail ou de service",
         "marker": {
          "color": "#FF6692",
          "pattern": {
           "shape": ""
          }
         },
         "name": "congé suite à accident de travail ou de service",
         "offsetgroup": "congé suite à accident de travail ou de service",
         "orientation": "v",
         "showlegend": true,
         "textposition": "auto",
         "type": "bar",
         "x": [
          "2017-03",
          "2017-04",
          "2017-05",
          "2017-09",
          "2017-10",
          "2017-11",
          "2017-12",
          "2018-01",
          "2018-02",
          "2018-03",
          "2018-04",
          "2018-05",
          "2018-06",
          "2018-07",
          "2018-08",
          "2018-09",
          "2018-10",
          "2018-11",
          "2018-12",
          "2019-01",
          "2019-04",
          "2019-05",
          "2019-06",
          "2019-07",
          "2019-08",
          "2019-09",
          "2019-10",
          "2019-11",
          "2019-12",
          "2020-02",
          "2020-03",
          "2020-05",
          "2020-06",
          "2020-09",
          "2020-10",
          "2020-11",
          "2020-12",
          "2021-01",
          "2021-02",
          "2021-03",
          "2021-04",
          "2021-05",
          "2021-06",
          "2021-07",
          "2021-10",
          "2021-11",
          "2021-12",
          "2022-03",
          "2022-04",
          "2022-06",
          "2022-07",
          "2022-08"
         ],
         "xaxis": "x",
         "y": [
          8,
          57,
          26,
          23,
          46,
          63,
          36,
          55,
          31,
          34,
          30,
          41,
          31,
          21,
          12,
          54,
          31,
          30,
          17,
          27,
          11,
          10,
          45,
          19,
          44,
          28,
          29,
          39,
          1,
          2,
          12,
          11,
          16,
          4,
          8,
          10,
          40,
          62,
          71,
          55,
          41,
          33,
          7,
          18,
          38,
          33,
          20,
          10,
          8,
          30,
          14,
          12
         ],
         "yaxis": "y"
        },
        {
         "alignmentgroup": "True",
         "hovertemplate": "motif=paternité / accueil de l’enfant<br>year_month=%{x}<br>mois=%{y}<extra></extra>",
         "legendgroup": "paternité / accueil de l’enfant",
         "marker": {
          "color": "#B6E880",
          "pattern": {
           "shape": ""
          }
         },
         "name": "paternité / accueil de l’enfant",
         "offsetgroup": "paternité / accueil de l’enfant",
         "orientation": "v",
         "showlegend": true,
         "textposition": "auto",
         "type": "bar",
         "x": [
          "2017-03",
          "2017-04",
          "2017-05",
          "2017-07",
          "2017-08",
          "2017-09",
          "2017-10",
          "2017-11",
          "2018-01",
          "2018-04",
          "2018-06",
          "2018-07",
          "2018-08",
          "2018-09",
          "2018-11",
          "2018-12",
          "2019-01",
          "2019-02",
          "2019-03",
          "2019-04",
          "2019-05",
          "2019-06",
          "2019-07",
          "2019-08",
          "2019-09",
          "2019-10",
          "2019-12",
          "2020-01",
          "2020-02",
          "2020-05",
          "2020-06",
          "2020-07",
          "2020-09",
          "2020-10",
          "2021-03",
          "2021-04",
          "2021-06",
          "2021-07",
          "2021-08",
          "2021-09",
          "2021-10",
          "2021-11",
          "2021-12",
          "2022-01",
          "2022-02",
          "2022-03",
          "2022-06",
          "2022-07",
          "2022-08"
         ],
         "xaxis": "x",
         "y": [
          5,
          19,
          24,
          24,
          5,
          43,
          12,
          12,
          12,
          24,
          12,
          24,
          42,
          18,
          12,
          12,
          35,
          15,
          9,
          12,
          12,
          44,
          11,
          12,
          22,
          14,
          10,
          2,
          12,
          12,
          1,
          11,
          23,
          1,
          12,
          24,
          35,
          1,
          22,
          59,
          67,
          7,
          23,
          9,
          29,
          15,
          10,
          10,
          11
         ],
         "yaxis": "y"
        }
       ],
       "layout": {
        "barmode": "relative",
        "legend": {
         "title": {
          "text": "motif"
         },
         "tracegroupgap": 0
        },
        "template": {
         "data": {
          "bar": [
           {
            "error_x": {
             "color": "#2a3f5f"
            },
            "error_y": {
             "color": "#2a3f5f"
            },
            "marker": {
             "line": {
              "color": "#E5ECF6",
              "width": 0.5
             },
             "pattern": {
              "fillmode": "overlay",
              "size": 10,
              "solidity": 0.2
             }
            },
            "type": "bar"
           }
          ],
          "barpolar": [
           {
            "marker": {
             "line": {
              "color": "#E5ECF6",
              "width": 0.5
             },
             "pattern": {
              "fillmode": "overlay",
              "size": 10,
              "solidity": 0.2
             }
            },
            "type": "barpolar"
           }
          ],
          "carpet": [
           {
            "aaxis": {
             "endlinecolor": "#2a3f5f",
             "gridcolor": "white",
             "linecolor": "white",
             "minorgridcolor": "white",
             "startlinecolor": "#2a3f5f"
            },
            "baxis": {
             "endlinecolor": "#2a3f5f",
             "gridcolor": "white",
             "linecolor": "white",
             "minorgridcolor": "white",
             "startlinecolor": "#2a3f5f"
            },
            "type": "carpet"
           }
          ],
          "choropleth": [
           {
            "colorbar": {
             "outlinewidth": 0,
             "ticks": ""
            },
            "type": "choropleth"
           }
          ],
          "contour": [
           {
            "colorbar": {
             "outlinewidth": 0,
             "ticks": ""
            },
            "colorscale": [
             [
              0,
              "#0d0887"
             ],
             [
              0.1111111111111111,
              "#46039f"
             ],
             [
              0.2222222222222222,
              "#7201a8"
             ],
             [
              0.3333333333333333,
              "#9c179e"
             ],
             [
              0.4444444444444444,
              "#bd3786"
             ],
             [
              0.5555555555555556,
              "#d8576b"
             ],
             [
              0.6666666666666666,
              "#ed7953"
             ],
             [
              0.7777777777777778,
              "#fb9f3a"
             ],
             [
              0.8888888888888888,
              "#fdca26"
             ],
             [
              1,
              "#f0f921"
             ]
            ],
            "type": "contour"
           }
          ],
          "contourcarpet": [
           {
            "colorbar": {
             "outlinewidth": 0,
             "ticks": ""
            },
            "type": "contourcarpet"
           }
          ],
          "heatmap": [
           {
            "colorbar": {
             "outlinewidth": 0,
             "ticks": ""
            },
            "colorscale": [
             [
              0,
              "#0d0887"
             ],
             [
              0.1111111111111111,
              "#46039f"
             ],
             [
              0.2222222222222222,
              "#7201a8"
             ],
             [
              0.3333333333333333,
              "#9c179e"
             ],
             [
              0.4444444444444444,
              "#bd3786"
             ],
             [
              0.5555555555555556,
              "#d8576b"
             ],
             [
              0.6666666666666666,
              "#ed7953"
             ],
             [
              0.7777777777777778,
              "#fb9f3a"
             ],
             [
              0.8888888888888888,
              "#fdca26"
             ],
             [
              1,
              "#f0f921"
             ]
            ],
            "type": "heatmap"
           }
          ],
          "heatmapgl": [
           {
            "colorbar": {
             "outlinewidth": 0,
             "ticks": ""
            },
            "colorscale": [
             [
              0,
              "#0d0887"
             ],
             [
              0.1111111111111111,
              "#46039f"
             ],
             [
              0.2222222222222222,
              "#7201a8"
             ],
             [
              0.3333333333333333,
              "#9c179e"
             ],
             [
              0.4444444444444444,
              "#bd3786"
             ],
             [
              0.5555555555555556,
              "#d8576b"
             ],
             [
              0.6666666666666666,
              "#ed7953"
             ],
             [
              0.7777777777777778,
              "#fb9f3a"
             ],
             [
              0.8888888888888888,
              "#fdca26"
             ],
             [
              1,
              "#f0f921"
             ]
            ],
            "type": "heatmapgl"
           }
          ],
          "histogram": [
           {
            "marker": {
             "pattern": {
              "fillmode": "overlay",
              "size": 10,
              "solidity": 0.2
             }
            },
            "type": "histogram"
           }
          ],
          "histogram2d": [
           {
            "colorbar": {
             "outlinewidth": 0,
             "ticks": ""
            },
            "colorscale": [
             [
              0,
              "#0d0887"
             ],
             [
              0.1111111111111111,
              "#46039f"
             ],
             [
              0.2222222222222222,
              "#7201a8"
             ],
             [
              0.3333333333333333,
              "#9c179e"
             ],
             [
              0.4444444444444444,
              "#bd3786"
             ],
             [
              0.5555555555555556,
              "#d8576b"
             ],
             [
              0.6666666666666666,
              "#ed7953"
             ],
             [
              0.7777777777777778,
              "#fb9f3a"
             ],
             [
              0.8888888888888888,
              "#fdca26"
             ],
             [
              1,
              "#f0f921"
             ]
            ],
            "type": "histogram2d"
           }
          ],
          "histogram2dcontour": [
           {
            "colorbar": {
             "outlinewidth": 0,
             "ticks": ""
            },
            "colorscale": [
             [
              0,
              "#0d0887"
             ],
             [
              0.1111111111111111,
              "#46039f"
             ],
             [
              0.2222222222222222,
              "#7201a8"
             ],
             [
              0.3333333333333333,
              "#9c179e"
             ],
             [
              0.4444444444444444,
              "#bd3786"
             ],
             [
              0.5555555555555556,
              "#d8576b"
             ],
             [
              0.6666666666666666,
              "#ed7953"
             ],
             [
              0.7777777777777778,
              "#fb9f3a"
             ],
             [
              0.8888888888888888,
              "#fdca26"
             ],
             [
              1,
              "#f0f921"
             ]
            ],
            "type": "histogram2dcontour"
           }
          ],
          "mesh3d": [
           {
            "colorbar": {
             "outlinewidth": 0,
             "ticks": ""
            },
            "type": "mesh3d"
           }
          ],
          "parcoords": [
           {
            "line": {
             "colorbar": {
              "outlinewidth": 0,
              "ticks": ""
             }
            },
            "type": "parcoords"
           }
          ],
          "pie": [
           {
            "automargin": true,
            "type": "pie"
           }
          ],
          "scatter": [
           {
            "marker": {
             "colorbar": {
              "outlinewidth": 0,
              "ticks": ""
             }
            },
            "type": "scatter"
           }
          ],
          "scatter3d": [
           {
            "line": {
             "colorbar": {
              "outlinewidth": 0,
              "ticks": ""
             }
            },
            "marker": {
             "colorbar": {
              "outlinewidth": 0,
              "ticks": ""
             }
            },
            "type": "scatter3d"
           }
          ],
          "scattercarpet": [
           {
            "marker": {
             "colorbar": {
              "outlinewidth": 0,
              "ticks": ""
             }
            },
            "type": "scattercarpet"
           }
          ],
          "scattergeo": [
           {
            "marker": {
             "colorbar": {
              "outlinewidth": 0,
              "ticks": ""
             }
            },
            "type": "scattergeo"
           }
          ],
          "scattergl": [
           {
            "marker": {
             "colorbar": {
              "outlinewidth": 0,
              "ticks": ""
             }
            },
            "type": "scattergl"
           }
          ],
          "scattermapbox": [
           {
            "marker": {
             "colorbar": {
              "outlinewidth": 0,
              "ticks": ""
             }
            },
            "type": "scattermapbox"
           }
          ],
          "scatterpolar": [
           {
            "marker": {
             "colorbar": {
              "outlinewidth": 0,
              "ticks": ""
             }
            },
            "type": "scatterpolar"
           }
          ],
          "scatterpolargl": [
           {
            "marker": {
             "colorbar": {
              "outlinewidth": 0,
              "ticks": ""
             }
            },
            "type": "scatterpolargl"
           }
          ],
          "scatterternary": [
           {
            "marker": {
             "colorbar": {
              "outlinewidth": 0,
              "ticks": ""
             }
            },
            "type": "scatterternary"
           }
          ],
          "surface": [
           {
            "colorbar": {
             "outlinewidth": 0,
             "ticks": ""
            },
            "colorscale": [
             [
              0,
              "#0d0887"
             ],
             [
              0.1111111111111111,
              "#46039f"
             ],
             [
              0.2222222222222222,
              "#7201a8"
             ],
             [
              0.3333333333333333,
              "#9c179e"
             ],
             [
              0.4444444444444444,
              "#bd3786"
             ],
             [
              0.5555555555555556,
              "#d8576b"
             ],
             [
              0.6666666666666666,
              "#ed7953"
             ],
             [
              0.7777777777777778,
              "#fb9f3a"
             ],
             [
              0.8888888888888888,
              "#fdca26"
             ],
             [
              1,
              "#f0f921"
             ]
            ],
            "type": "surface"
           }
          ],
          "table": [
           {
            "cells": {
             "fill": {
              "color": "#EBF0F8"
             },
             "line": {
              "color": "white"
             }
            },
            "header": {
             "fill": {
              "color": "#C8D4E3"
             },
             "line": {
              "color": "white"
             }
            },
            "type": "table"
           }
          ]
         },
         "layout": {
          "annotationdefaults": {
           "arrowcolor": "#2a3f5f",
           "arrowhead": 0,
           "arrowwidth": 1
          },
          "autotypenumbers": "strict",
          "coloraxis": {
           "colorbar": {
            "outlinewidth": 0,
            "ticks": ""
           }
          },
          "colorscale": {
           "diverging": [
            [
             0,
             "#8e0152"
            ],
            [
             0.1,
             "#c51b7d"
            ],
            [
             0.2,
             "#de77ae"
            ],
            [
             0.3,
             "#f1b6da"
            ],
            [
             0.4,
             "#fde0ef"
            ],
            [
             0.5,
             "#f7f7f7"
            ],
            [
             0.6,
             "#e6f5d0"
            ],
            [
             0.7,
             "#b8e186"
            ],
            [
             0.8,
             "#7fbc41"
            ],
            [
             0.9,
             "#4d9221"
            ],
            [
             1,
             "#276419"
            ]
           ],
           "sequential": [
            [
             0,
             "#0d0887"
            ],
            [
             0.1111111111111111,
             "#46039f"
            ],
            [
             0.2222222222222222,
             "#7201a8"
            ],
            [
             0.3333333333333333,
             "#9c179e"
            ],
            [
             0.4444444444444444,
             "#bd3786"
            ],
            [
             0.5555555555555556,
             "#d8576b"
            ],
            [
             0.6666666666666666,
             "#ed7953"
            ],
            [
             0.7777777777777778,
             "#fb9f3a"
            ],
            [
             0.8888888888888888,
             "#fdca26"
            ],
            [
             1,
             "#f0f921"
            ]
           ],
           "sequentialminus": [
            [
             0,
             "#0d0887"
            ],
            [
             0.1111111111111111,
             "#46039f"
            ],
            [
             0.2222222222222222,
             "#7201a8"
            ],
            [
             0.3333333333333333,
             "#9c179e"
            ],
            [
             0.4444444444444444,
             "#bd3786"
            ],
            [
             0.5555555555555556,
             "#d8576b"
            ],
            [
             0.6666666666666666,
             "#ed7953"
            ],
            [
             0.7777777777777778,
             "#fb9f3a"
            ],
            [
             0.8888888888888888,
             "#fdca26"
            ],
            [
             1,
             "#f0f921"
            ]
           ]
          },
          "colorway": [
           "#636efa",
           "#EF553B",
           "#00cc96",
           "#ab63fa",
           "#FFA15A",
           "#19d3f3",
           "#FF6692",
           "#B6E880",
           "#FF97FF",
           "#FECB52"
          ],
          "font": {
           "color": "#2a3f5f"
          },
          "geo": {
           "bgcolor": "white",
           "lakecolor": "white",
           "landcolor": "#E5ECF6",
           "showlakes": true,
           "showland": true,
           "subunitcolor": "white"
          },
          "hoverlabel": {
           "align": "left"
          },
          "hovermode": "closest",
          "mapbox": {
           "style": "light"
          },
          "paper_bgcolor": "white",
          "plot_bgcolor": "#E5ECF6",
          "polar": {
           "angularaxis": {
            "gridcolor": "white",
            "linecolor": "white",
            "ticks": ""
           },
           "bgcolor": "#E5ECF6",
           "radialaxis": {
            "gridcolor": "white",
            "linecolor": "white",
            "ticks": ""
           }
          },
          "scene": {
           "xaxis": {
            "backgroundcolor": "#E5ECF6",
            "gridcolor": "white",
            "gridwidth": 2,
            "linecolor": "white",
            "showbackground": true,
            "ticks": "",
            "zerolinecolor": "white"
           },
           "yaxis": {
            "backgroundcolor": "#E5ECF6",
            "gridcolor": "white",
            "gridwidth": 2,
            "linecolor": "white",
            "showbackground": true,
            "ticks": "",
            "zerolinecolor": "white"
           },
           "zaxis": {
            "backgroundcolor": "#E5ECF6",
            "gridcolor": "white",
            "gridwidth": 2,
            "linecolor": "white",
            "showbackground": true,
            "ticks": "",
            "zerolinecolor": "white"
           }
          },
          "shapedefaults": {
           "line": {
            "color": "#2a3f5f"
           }
          },
          "ternary": {
           "aaxis": {
            "gridcolor": "white",
            "linecolor": "white",
            "ticks": ""
           },
           "baxis": {
            "gridcolor": "white",
            "linecolor": "white",
            "ticks": ""
           },
           "bgcolor": "#E5ECF6",
           "caxis": {
            "gridcolor": "white",
            "linecolor": "white",
            "ticks": ""
           }
          },
          "title": {
           "x": 0.05
          },
          "xaxis": {
           "automargin": true,
           "gridcolor": "white",
           "linecolor": "white",
           "ticks": "",
           "title": {
            "standoff": 15
           },
           "zerolinecolor": "white",
           "zerolinewidth": 2
          },
          "yaxis": {
           "automargin": true,
           "gridcolor": "white",
           "linecolor": "white",
           "ticks": "",
           "title": {
            "standoff": 15
           },
           "zerolinecolor": "white",
           "zerolinewidth": 2
          }
         }
        },
        "title": {
         "text": "Long-Form Input"
        },
        "xaxis": {
         "anchor": "y",
         "domain": [
          0,
          1
         ],
         "title": {
          "text": "year_month"
         }
        },
        "yaxis": {
         "anchor": "x",
         "domain": [
          0,
          1
         ],
         "title": {
          "text": "mois"
         }
        }
       }
      },
      "text/html": [
       "<div>                            <div id=\"0875c9a8-68ad-468d-8567-4ca5f3469eaf\" class=\"plotly-graph-div\" style=\"height:525px; width:100%;\"></div>            <script type=\"text/javascript\">                require([\"plotly\"], function(Plotly) {                    window.PLOTLYENV=window.PLOTLYENV || {};                                    if (document.getElementById(\"0875c9a8-68ad-468d-8567-4ca5f3469eaf\")) {                    Plotly.newPlot(                        \"0875c9a8-68ad-468d-8567-4ca5f3469eaf\",                        [{\"alignmentgroup\":\"True\",\"hovertemplate\":\"motif=maladie<br>year_month=%{x}<br>mois=%{y}<extra></extra>\",\"legendgroup\":\"maladie\",\"marker\":{\"color\":\"#636efa\",\"pattern\":{\"shape\":\"\"}},\"name\":\"maladie\",\"offsetgroup\":\"maladie\",\"orientation\":\"v\",\"showlegend\":true,\"textposition\":\"auto\",\"x\":[\"2013-09\",\"2013-10\",\"2013-11\",\"2013-12\",\"2014-01\",\"2014-02\",\"2014-03\",\"2014-04\",\"2014-05\",\"2014-06\",\"2014-07\",\"2014-08\",\"2014-09\",\"2014-10\",\"2014-11\",\"2014-12\",\"2015-01\",\"2015-02\",\"2015-03\",\"2015-04\",\"2015-05\",\"2015-06\",\"2015-07\",\"2015-08\",\"2015-09\",\"2015-10\",\"2015-11\",\"2015-12\",\"2016-01\",\"2016-02\",\"2016-03\",\"2016-04\",\"2016-05\",\"2016-06\",\"2016-07\",\"2016-08\",\"2016-09\",\"2016-10\",\"2016-11\",\"2016-12\",\"2017-01\",\"2017-02\",\"2017-03\",\"2017-04\",\"2017-05\",\"2017-06\",\"2017-07\",\"2017-08\",\"2017-09\",\"2017-10\",\"2017-11\",\"2017-12\",\"2018-01\",\"2018-02\",\"2018-03\",\"2018-04\",\"2018-05\",\"2018-06\",\"2018-07\",\"2018-08\",\"2018-09\",\"2018-10\",\"2018-11\",\"2018-12\",\"2019-01\",\"2019-02\",\"2019-03\",\"2019-04\",\"2019-05\",\"2019-06\",\"2019-07\",\"2019-08\",\"2019-09\",\"2019-10\",\"2019-11\",\"2019-12\",\"2020-01\",\"2020-02\",\"2020-03\",\"2020-04\",\"2020-05\",\"2020-06\",\"2020-07\",\"2020-08\",\"2020-09\",\"2020-10\",\"2020-11\",\"2020-12\",\"2021-01\",\"2021-02\",\"2021-03\",\"2021-04\",\"2021-05\",\"2021-06\",\"2021-07\",\"2021-08\",\"2021-09\",\"2021-10\",\"2021-11\",\"2021-12\",\"2022-01\",\"2022-02\",\"2022-03\",\"2022-04\",\"2022-05\",\"2022-06\",\"2022-07\",\"2022-08\",\"2022-09\",\"2022-10\",\"2022-11\",\"2022-12\"],\"xaxis\":\"x\",\"y\":[9,31,30,31,31,28,31,30,31,30,31,31,30,31,30,31,31,28,31,30,31,30,31,31,30,31,30,31,60,58,62,60,62,60,62,62,85,101,105,183,249,263,402,523,440,402,292,263,344,390,450,476,415,443,505,456,442,489,494,358,454,627,607,584,621,607,568,524,524,562,548,429,495,514,568,614,612,466,1592,1726,720,531,467,395,489,550,515,570,442,422,418,510,380,398,402,378,502,554,581,897,994,1060,1017,1031,875,904,748,584,154,62,43,8],\"yaxis\":\"y\",\"type\":\"bar\"},{\"alignmentgroup\":\"True\",\"hovertemplate\":\"motif=cong\\u00e9 suite \\u00e0 un accident de trajet<br>year_month=%{x}<br>mois=%{y}<extra></extra>\",\"legendgroup\":\"cong\\u00e9 suite \\u00e0 un accident de trajet\",\"marker\":{\"color\":\"#EF553B\",\"pattern\":{\"shape\":\"\"}},\"name\":\"cong\\u00e9 suite \\u00e0 un accident de trajet\",\"offsetgroup\":\"cong\\u00e9 suite \\u00e0 un accident de trajet\",\"orientation\":\"v\",\"showlegend\":true,\"textposition\":\"auto\",\"x\":[\"2014-10\",\"2014-11\",\"2014-12\",\"2015-01\",\"2015-02\",\"2015-03\",\"2015-04\",\"2015-05\",\"2015-06\",\"2015-07\",\"2015-08\",\"2015-09\",\"2015-10\",\"2015-11\",\"2015-12\",\"2016-01\",\"2016-02\",\"2016-03\",\"2016-04\",\"2016-05\",\"2016-06\",\"2016-07\",\"2016-08\",\"2016-09\",\"2016-10\",\"2016-11\",\"2016-12\",\"2017-01\",\"2017-02\",\"2017-03\",\"2017-04\",\"2017-05\",\"2017-06\",\"2017-07\",\"2017-08\",\"2017-09\",\"2017-10\",\"2017-11\",\"2017-12\",\"2018-01\",\"2018-02\",\"2018-03\",\"2018-04\",\"2018-05\",\"2018-06\",\"2018-07\",\"2018-08\",\"2018-09\",\"2018-10\",\"2018-11\",\"2018-12\",\"2019-01\",\"2019-02\",\"2019-03\",\"2020-12\",\"2021-09\",\"2022-06\"],\"xaxis\":\"x\",\"y\":[8,30,31,31,28,31,30,31,30,31,31,30,31,30,31,31,29,31,30,31,30,31,31,30,31,30,31,31,28,31,30,31,30,31,31,30,31,30,31,31,28,31,33,44,30,31,31,30,31,30,31,31,28,31,5,4,2],\"yaxis\":\"y\",\"type\":\"bar\"},{\"alignmentgroup\":\"True\",\"hovertemplate\":\"motif=annulation<br>year_month=%{x}<br>mois=%{y}<extra></extra>\",\"legendgroup\":\"annulation\",\"marker\":{\"color\":\"#00cc96\",\"pattern\":{\"shape\":\"\"}},\"name\":\"annulation\",\"offsetgroup\":\"annulation\",\"orientation\":\"v\",\"showlegend\":true,\"textposition\":\"auto\",\"x\":[\"2016-09\",\"2016-10\",\"2016-11\",\"2016-12\",\"2017-01\",\"2017-02\",\"2017-03\"],\"xaxis\":\"x\",\"y\":[1,17,8,5,48,28,9],\"yaxis\":\"y\",\"type\":\"bar\"},{\"alignmentgroup\":\"True\",\"hovertemplate\":\"motif=NA<br>year_month=%{x}<br>mois=%{y}<extra></extra>\",\"legendgroup\":\"NA\",\"marker\":{\"color\":\"#ab63fa\",\"pattern\":{\"shape\":\"\"}},\"name\":\"NA\",\"offsetgroup\":\"NA\",\"orientation\":\"v\",\"showlegend\":true,\"textposition\":\"auto\",\"x\":[\"2016-11\",\"2016-12\",\"2017-01\",\"2017-02\",\"2017-03\",\"2017-04\",\"2017-05\",\"2017-06\",\"2017-07\",\"2017-08\",\"2017-09\",\"2017-10\",\"2017-11\",\"2017-12\",\"2018-01\",\"2018-02\",\"2018-03\",\"2018-04\",\"2018-05\",\"2018-06\",\"2018-07\",\"2018-08\",\"2018-09\",\"2018-10\",\"2018-11\",\"2018-12\",\"2019-01\",\"2019-02\",\"2019-03\",\"2019-04\",\"2019-05\",\"2019-06\",\"2019-07\",\"2019-08\",\"2019-09\",\"2019-10\",\"2019-11\",\"2019-12\",\"2020-01\",\"2020-02\",\"2020-03\",\"2020-04\",\"2020-05\",\"2020-06\",\"2020-07\",\"2020-08\",\"2020-09\",\"2020-10\",\"2020-11\",\"2020-12\",\"2021-01\",\"2021-02\",\"2021-03\",\"2021-04\",\"2021-05\",\"2021-06\",\"2021-07\",\"2021-08\",\"2021-09\",\"2021-10\",\"2021-11\",\"2021-12\",\"2022-01\",\"2022-02\",\"2022-03\",\"2022-04\",\"2022-05\",\"2022-06\",\"2022-07\",\"2022-08\"],\"xaxis\":\"x\",\"y\":[36,62,43,54,148,435,935,1305,1614,1749,1844,2137,2324,2810,3211,3130,3806,4027,4324,4317,4700,4911,4772,5016,4992,5387,5527,5229,5911,5805,6122,5891,6282,6422,6185,6451,6363,6686,6747,6514,5934,5634,6662,6574,6814,6868,6525,6656,6413,6593,6637,5948,6629,6243,6568,6328,6543,6508,6154,6130,5919,5740,5338,4134,3998,2872,2289,1490,619,85],\"yaxis\":\"y\",\"type\":\"bar\"},{\"alignmentgroup\":\"True\",\"hovertemplate\":\"motif=maternit\\u00e9 / adoption<br>year_month=%{x}<br>mois=%{y}<extra></extra>\",\"legendgroup\":\"maternit\\u00e9 / adoption\",\"marker\":{\"color\":\"#FFA15A\",\"pattern\":{\"shape\":\"\"}},\"name\":\"maternit\\u00e9 / adoption\",\"offsetgroup\":\"maternit\\u00e9 / adoption\",\"orientation\":\"v\",\"showlegend\":true,\"textposition\":\"auto\",\"x\":[\"2016-12\",\"2017-01\",\"2017-02\",\"2017-03\",\"2017-04\",\"2019-07\",\"2019-08\",\"2019-09\",\"2019-10\",\"2019-11\",\"2019-12\",\"2020-07\",\"2020-08\",\"2020-09\",\"2020-10\",\"2020-11\",\"2020-12\",\"2021-05\",\"2021-06\",\"2021-07\",\"2021-08\",\"2021-09\",\"2021-10\",\"2021-11\"],\"xaxis\":\"x\",\"y\":[9,31,28,31,25,6,31,27,31,30,24,1,52,60,62,49,2,30,30,35,52,30,31,16],\"yaxis\":\"y\",\"type\":\"bar\"},{\"alignmentgroup\":\"True\",\"hovertemplate\":\"motif=cong\\u00e9 suite \\u00e0 maladie professionnelle<br>year_month=%{x}<br>mois=%{y}<extra></extra>\",\"legendgroup\":\"cong\\u00e9 suite \\u00e0 maladie professionnelle\",\"marker\":{\"color\":\"#19d3f3\",\"pattern\":{\"shape\":\"\"}},\"name\":\"cong\\u00e9 suite \\u00e0 maladie professionnelle\",\"offsetgroup\":\"cong\\u00e9 suite \\u00e0 maladie professionnelle\",\"orientation\":\"v\",\"showlegend\":true,\"textposition\":\"auto\",\"x\":[\"2017-01\",\"2017-02\",\"2017-03\",\"2017-04\",\"2017-05\",\"2017-09\",\"2017-10\",\"2018-11\",\"2018-12\",\"2019-01\",\"2019-02\",\"2019-03\",\"2019-04\",\"2019-05\",\"2019-06\",\"2019-07\",\"2019-08\",\"2019-09\",\"2019-10\",\"2020-06\",\"2020-07\",\"2020-08\",\"2020-12\",\"2021-11\",\"2021-12\",\"2022-01\",\"2022-02\",\"2022-03\",\"2022-04\",\"2022-05\",\"2022-06\",\"2022-07\",\"2022-08\"],\"xaxis\":\"x\",\"y\":[4,28,31,30,18,18,22,12,29,12,30,84,60,31,30,31,31,30,31,15,31,31,1,9,31,31,28,31,30,31,30,31,31],\"yaxis\":\"y\",\"type\":\"bar\"},{\"alignmentgroup\":\"True\",\"hovertemplate\":\"motif=cong\\u00e9 suite \\u00e0 accident de travail ou de service<br>year_month=%{x}<br>mois=%{y}<extra></extra>\",\"legendgroup\":\"cong\\u00e9 suite \\u00e0 accident de travail ou de service\",\"marker\":{\"color\":\"#FF6692\",\"pattern\":{\"shape\":\"\"}},\"name\":\"cong\\u00e9 suite \\u00e0 accident de travail ou de service\",\"offsetgroup\":\"cong\\u00e9 suite \\u00e0 accident de travail ou de service\",\"orientation\":\"v\",\"showlegend\":true,\"textposition\":\"auto\",\"x\":[\"2017-03\",\"2017-04\",\"2017-05\",\"2017-09\",\"2017-10\",\"2017-11\",\"2017-12\",\"2018-01\",\"2018-02\",\"2018-03\",\"2018-04\",\"2018-05\",\"2018-06\",\"2018-07\",\"2018-08\",\"2018-09\",\"2018-10\",\"2018-11\",\"2018-12\",\"2019-01\",\"2019-04\",\"2019-05\",\"2019-06\",\"2019-07\",\"2019-08\",\"2019-09\",\"2019-10\",\"2019-11\",\"2019-12\",\"2020-02\",\"2020-03\",\"2020-05\",\"2020-06\",\"2020-09\",\"2020-10\",\"2020-11\",\"2020-12\",\"2021-01\",\"2021-02\",\"2021-03\",\"2021-04\",\"2021-05\",\"2021-06\",\"2021-07\",\"2021-10\",\"2021-11\",\"2021-12\",\"2022-03\",\"2022-04\",\"2022-06\",\"2022-07\",\"2022-08\"],\"xaxis\":\"x\",\"y\":[8,57,26,23,46,63,36,55,31,34,30,41,31,21,12,54,31,30,17,27,11,10,45,19,44,28,29,39,1,2,12,11,16,4,8,10,40,62,71,55,41,33,7,18,38,33,20,10,8,30,14,12],\"yaxis\":\"y\",\"type\":\"bar\"},{\"alignmentgroup\":\"True\",\"hovertemplate\":\"motif=paternit\\u00e9 / accueil de l\\u2019enfant<br>year_month=%{x}<br>mois=%{y}<extra></extra>\",\"legendgroup\":\"paternit\\u00e9 / accueil de l\\u2019enfant\",\"marker\":{\"color\":\"#B6E880\",\"pattern\":{\"shape\":\"\"}},\"name\":\"paternit\\u00e9 / accueil de l\\u2019enfant\",\"offsetgroup\":\"paternit\\u00e9 / accueil de l\\u2019enfant\",\"orientation\":\"v\",\"showlegend\":true,\"textposition\":\"auto\",\"x\":[\"2017-03\",\"2017-04\",\"2017-05\",\"2017-07\",\"2017-08\",\"2017-09\",\"2017-10\",\"2017-11\",\"2018-01\",\"2018-04\",\"2018-06\",\"2018-07\",\"2018-08\",\"2018-09\",\"2018-11\",\"2018-12\",\"2019-01\",\"2019-02\",\"2019-03\",\"2019-04\",\"2019-05\",\"2019-06\",\"2019-07\",\"2019-08\",\"2019-09\",\"2019-10\",\"2019-12\",\"2020-01\",\"2020-02\",\"2020-05\",\"2020-06\",\"2020-07\",\"2020-09\",\"2020-10\",\"2021-03\",\"2021-04\",\"2021-06\",\"2021-07\",\"2021-08\",\"2021-09\",\"2021-10\",\"2021-11\",\"2021-12\",\"2022-01\",\"2022-02\",\"2022-03\",\"2022-06\",\"2022-07\",\"2022-08\"],\"xaxis\":\"x\",\"y\":[5,19,24,24,5,43,12,12,12,24,12,24,42,18,12,12,35,15,9,12,12,44,11,12,22,14,10,2,12,12,1,11,23,1,12,24,35,1,22,59,67,7,23,9,29,15,10,10,11],\"yaxis\":\"y\",\"type\":\"bar\"}],                        {\"template\":{\"data\":{\"bar\":[{\"error_x\":{\"color\":\"#2a3f5f\"},\"error_y\":{\"color\":\"#2a3f5f\"},\"marker\":{\"line\":{\"color\":\"#E5ECF6\",\"width\":0.5},\"pattern\":{\"fillmode\":\"overlay\",\"size\":10,\"solidity\":0.2}},\"type\":\"bar\"}],\"barpolar\":[{\"marker\":{\"line\":{\"color\":\"#E5ECF6\",\"width\":0.5},\"pattern\":{\"fillmode\":\"overlay\",\"size\":10,\"solidity\":0.2}},\"type\":\"barpolar\"}],\"carpet\":[{\"aaxis\":{\"endlinecolor\":\"#2a3f5f\",\"gridcolor\":\"white\",\"linecolor\":\"white\",\"minorgridcolor\":\"white\",\"startlinecolor\":\"#2a3f5f\"},\"baxis\":{\"endlinecolor\":\"#2a3f5f\",\"gridcolor\":\"white\",\"linecolor\":\"white\",\"minorgridcolor\":\"white\",\"startlinecolor\":\"#2a3f5f\"},\"type\":\"carpet\"}],\"choropleth\":[{\"colorbar\":{\"outlinewidth\":0,\"ticks\":\"\"},\"type\":\"choropleth\"}],\"contour\":[{\"colorbar\":{\"outlinewidth\":0,\"ticks\":\"\"},\"colorscale\":[[0.0,\"#0d0887\"],[0.1111111111111111,\"#46039f\"],[0.2222222222222222,\"#7201a8\"],[0.3333333333333333,\"#9c179e\"],[0.4444444444444444,\"#bd3786\"],[0.5555555555555556,\"#d8576b\"],[0.6666666666666666,\"#ed7953\"],[0.7777777777777778,\"#fb9f3a\"],[0.8888888888888888,\"#fdca26\"],[1.0,\"#f0f921\"]],\"type\":\"contour\"}],\"contourcarpet\":[{\"colorbar\":{\"outlinewidth\":0,\"ticks\":\"\"},\"type\":\"contourcarpet\"}],\"heatmap\":[{\"colorbar\":{\"outlinewidth\":0,\"ticks\":\"\"},\"colorscale\":[[0.0,\"#0d0887\"],[0.1111111111111111,\"#46039f\"],[0.2222222222222222,\"#7201a8\"],[0.3333333333333333,\"#9c179e\"],[0.4444444444444444,\"#bd3786\"],[0.5555555555555556,\"#d8576b\"],[0.6666666666666666,\"#ed7953\"],[0.7777777777777778,\"#fb9f3a\"],[0.8888888888888888,\"#fdca26\"],[1.0,\"#f0f921\"]],\"type\":\"heatmap\"}],\"heatmapgl\":[{\"colorbar\":{\"outlinewidth\":0,\"ticks\":\"\"},\"colorscale\":[[0.0,\"#0d0887\"],[0.1111111111111111,\"#46039f\"],[0.2222222222222222,\"#7201a8\"],[0.3333333333333333,\"#9c179e\"],[0.4444444444444444,\"#bd3786\"],[0.5555555555555556,\"#d8576b\"],[0.6666666666666666,\"#ed7953\"],[0.7777777777777778,\"#fb9f3a\"],[0.8888888888888888,\"#fdca26\"],[1.0,\"#f0f921\"]],\"type\":\"heatmapgl\"}],\"histogram\":[{\"marker\":{\"pattern\":{\"fillmode\":\"overlay\",\"size\":10,\"solidity\":0.2}},\"type\":\"histogram\"}],\"histogram2d\":[{\"colorbar\":{\"outlinewidth\":0,\"ticks\":\"\"},\"colorscale\":[[0.0,\"#0d0887\"],[0.1111111111111111,\"#46039f\"],[0.2222222222222222,\"#7201a8\"],[0.3333333333333333,\"#9c179e\"],[0.4444444444444444,\"#bd3786\"],[0.5555555555555556,\"#d8576b\"],[0.6666666666666666,\"#ed7953\"],[0.7777777777777778,\"#fb9f3a\"],[0.8888888888888888,\"#fdca26\"],[1.0,\"#f0f921\"]],\"type\":\"histogram2d\"}],\"histogram2dcontour\":[{\"colorbar\":{\"outlinewidth\":0,\"ticks\":\"\"},\"colorscale\":[[0.0,\"#0d0887\"],[0.1111111111111111,\"#46039f\"],[0.2222222222222222,\"#7201a8\"],[0.3333333333333333,\"#9c179e\"],[0.4444444444444444,\"#bd3786\"],[0.5555555555555556,\"#d8576b\"],[0.6666666666666666,\"#ed7953\"],[0.7777777777777778,\"#fb9f3a\"],[0.8888888888888888,\"#fdca26\"],[1.0,\"#f0f921\"]],\"type\":\"histogram2dcontour\"}],\"mesh3d\":[{\"colorbar\":{\"outlinewidth\":0,\"ticks\":\"\"},\"type\":\"mesh3d\"}],\"parcoords\":[{\"line\":{\"colorbar\":{\"outlinewidth\":0,\"ticks\":\"\"}},\"type\":\"parcoords\"}],\"pie\":[{\"automargin\":true,\"type\":\"pie\"}],\"scatter\":[{\"marker\":{\"colorbar\":{\"outlinewidth\":0,\"ticks\":\"\"}},\"type\":\"scatter\"}],\"scatter3d\":[{\"line\":{\"colorbar\":{\"outlinewidth\":0,\"ticks\":\"\"}},\"marker\":{\"colorbar\":{\"outlinewidth\":0,\"ticks\":\"\"}},\"type\":\"scatter3d\"}],\"scattercarpet\":[{\"marker\":{\"colorbar\":{\"outlinewidth\":0,\"ticks\":\"\"}},\"type\":\"scattercarpet\"}],\"scattergeo\":[{\"marker\":{\"colorbar\":{\"outlinewidth\":0,\"ticks\":\"\"}},\"type\":\"scattergeo\"}],\"scattergl\":[{\"marker\":{\"colorbar\":{\"outlinewidth\":0,\"ticks\":\"\"}},\"type\":\"scattergl\"}],\"scattermapbox\":[{\"marker\":{\"colorbar\":{\"outlinewidth\":0,\"ticks\":\"\"}},\"type\":\"scattermapbox\"}],\"scatterpolar\":[{\"marker\":{\"colorbar\":{\"outlinewidth\":0,\"ticks\":\"\"}},\"type\":\"scatterpolar\"}],\"scatterpolargl\":[{\"marker\":{\"colorbar\":{\"outlinewidth\":0,\"ticks\":\"\"}},\"type\":\"scatterpolargl\"}],\"scatterternary\":[{\"marker\":{\"colorbar\":{\"outlinewidth\":0,\"ticks\":\"\"}},\"type\":\"scatterternary\"}],\"surface\":[{\"colorbar\":{\"outlinewidth\":0,\"ticks\":\"\"},\"colorscale\":[[0.0,\"#0d0887\"],[0.1111111111111111,\"#46039f\"],[0.2222222222222222,\"#7201a8\"],[0.3333333333333333,\"#9c179e\"],[0.4444444444444444,\"#bd3786\"],[0.5555555555555556,\"#d8576b\"],[0.6666666666666666,\"#ed7953\"],[0.7777777777777778,\"#fb9f3a\"],[0.8888888888888888,\"#fdca26\"],[1.0,\"#f0f921\"]],\"type\":\"surface\"}],\"table\":[{\"cells\":{\"fill\":{\"color\":\"#EBF0F8\"},\"line\":{\"color\":\"white\"}},\"header\":{\"fill\":{\"color\":\"#C8D4E3\"},\"line\":{\"color\":\"white\"}},\"type\":\"table\"}]},\"layout\":{\"annotationdefaults\":{\"arrowcolor\":\"#2a3f5f\",\"arrowhead\":0,\"arrowwidth\":1},\"autotypenumbers\":\"strict\",\"coloraxis\":{\"colorbar\":{\"outlinewidth\":0,\"ticks\":\"\"}},\"colorscale\":{\"diverging\":[[0,\"#8e0152\"],[0.1,\"#c51b7d\"],[0.2,\"#de77ae\"],[0.3,\"#f1b6da\"],[0.4,\"#fde0ef\"],[0.5,\"#f7f7f7\"],[0.6,\"#e6f5d0\"],[0.7,\"#b8e186\"],[0.8,\"#7fbc41\"],[0.9,\"#4d9221\"],[1,\"#276419\"]],\"sequential\":[[0.0,\"#0d0887\"],[0.1111111111111111,\"#46039f\"],[0.2222222222222222,\"#7201a8\"],[0.3333333333333333,\"#9c179e\"],[0.4444444444444444,\"#bd3786\"],[0.5555555555555556,\"#d8576b\"],[0.6666666666666666,\"#ed7953\"],[0.7777777777777778,\"#fb9f3a\"],[0.8888888888888888,\"#fdca26\"],[1.0,\"#f0f921\"]],\"sequentialminus\":[[0.0,\"#0d0887\"],[0.1111111111111111,\"#46039f\"],[0.2222222222222222,\"#7201a8\"],[0.3333333333333333,\"#9c179e\"],[0.4444444444444444,\"#bd3786\"],[0.5555555555555556,\"#d8576b\"],[0.6666666666666666,\"#ed7953\"],[0.7777777777777778,\"#fb9f3a\"],[0.8888888888888888,\"#fdca26\"],[1.0,\"#f0f921\"]]},\"colorway\":[\"#636efa\",\"#EF553B\",\"#00cc96\",\"#ab63fa\",\"#FFA15A\",\"#19d3f3\",\"#FF6692\",\"#B6E880\",\"#FF97FF\",\"#FECB52\"],\"font\":{\"color\":\"#2a3f5f\"},\"geo\":{\"bgcolor\":\"white\",\"lakecolor\":\"white\",\"landcolor\":\"#E5ECF6\",\"showlakes\":true,\"showland\":true,\"subunitcolor\":\"white\"},\"hoverlabel\":{\"align\":\"left\"},\"hovermode\":\"closest\",\"mapbox\":{\"style\":\"light\"},\"paper_bgcolor\":\"white\",\"plot_bgcolor\":\"#E5ECF6\",\"polar\":{\"angularaxis\":{\"gridcolor\":\"white\",\"linecolor\":\"white\",\"ticks\":\"\"},\"bgcolor\":\"#E5ECF6\",\"radialaxis\":{\"gridcolor\":\"white\",\"linecolor\":\"white\",\"ticks\":\"\"}},\"scene\":{\"xaxis\":{\"backgroundcolor\":\"#E5ECF6\",\"gridcolor\":\"white\",\"gridwidth\":2,\"linecolor\":\"white\",\"showbackground\":true,\"ticks\":\"\",\"zerolinecolor\":\"white\"},\"yaxis\":{\"backgroundcolor\":\"#E5ECF6\",\"gridcolor\":\"white\",\"gridwidth\":2,\"linecolor\":\"white\",\"showbackground\":true,\"ticks\":\"\",\"zerolinecolor\":\"white\"},\"zaxis\":{\"backgroundcolor\":\"#E5ECF6\",\"gridcolor\":\"white\",\"gridwidth\":2,\"linecolor\":\"white\",\"showbackground\":true,\"ticks\":\"\",\"zerolinecolor\":\"white\"}},\"shapedefaults\":{\"line\":{\"color\":\"#2a3f5f\"}},\"ternary\":{\"aaxis\":{\"gridcolor\":\"white\",\"linecolor\":\"white\",\"ticks\":\"\"},\"baxis\":{\"gridcolor\":\"white\",\"linecolor\":\"white\",\"ticks\":\"\"},\"bgcolor\":\"#E5ECF6\",\"caxis\":{\"gridcolor\":\"white\",\"linecolor\":\"white\",\"ticks\":\"\"}},\"title\":{\"x\":0.05},\"xaxis\":{\"automargin\":true,\"gridcolor\":\"white\",\"linecolor\":\"white\",\"ticks\":\"\",\"title\":{\"standoff\":15},\"zerolinecolor\":\"white\",\"zerolinewidth\":2},\"yaxis\":{\"automargin\":true,\"gridcolor\":\"white\",\"linecolor\":\"white\",\"ticks\":\"\",\"title\":{\"standoff\":15},\"zerolinecolor\":\"white\",\"zerolinewidth\":2}}},\"xaxis\":{\"anchor\":\"y\",\"domain\":[0.0,1.0],\"title\":{\"text\":\"year_month\"}},\"yaxis\":{\"anchor\":\"x\",\"domain\":[0.0,1.0],\"title\":{\"text\":\"mois\"}},\"legend\":{\"title\":{\"text\":\"motif\"},\"tracegroupgap\":0},\"title\":{\"text\":\"Long-Form Input\"},\"barmode\":\"relative\"},                        {\"responsive\": true}                    ).then(function(){\n",
       "                            \n",
       "var gd = document.getElementById('0875c9a8-68ad-468d-8567-4ca5f3469eaf');\n",
       "var x = new MutationObserver(function (mutations, observer) {{\n",
       "        var display = window.getComputedStyle(gd).display;\n",
       "        if (!display || display === 'none') {{\n",
       "            console.log([gd, 'removed!']);\n",
       "            Plotly.purge(gd);\n",
       "            observer.disconnect();\n",
       "        }}\n",
       "}});\n",
       "\n",
       "// Listen for the removal of the full notebook cells\n",
       "var notebookContainer = gd.closest('#notebook-container');\n",
       "if (notebookContainer) {{\n",
       "    x.observe(notebookContainer, {childList: true});\n",
       "}}\n",
       "\n",
       "// Listen for the clearing of the current output cell\n",
       "var outputEl = gd.closest('.output');\n",
       "if (outputEl) {{\n",
       "    x.observe(outputEl, {childList: true});\n",
       "}}\n",
       "\n",
       "                        })                };                });            </script>        </div>"
      ]
     },
     "metadata": {},
     "output_type": "display_data"
    }
   ],
   "source": [
    "import plotly.express as px\n",
    "px.bar(dates_presence.groupby([\"year_month\", \"motif\"]).count()[\"mois\"].reset_index(), x=\"year_month\", y=\"mois\", color=\"motif\", title=\"Long-Form Input\")"
   ]
  },
  {
   "cell_type": "markdown",
   "id": "e0f8e996",
   "metadata": {},
   "source": []
  },
  {
   "cell_type": "code",
   "execution_count": 46,
   "id": "4c40bc6e",
   "metadata": {},
   "outputs": [
    {
     "name": "stdout",
     "output_type": "stream",
     "text": [
      "The algorithm stopped after 2 iterations\n"
     ]
    },
    {
     "data": {
      "text/html": [
       "<div>\n",
       "<style scoped>\n",
       "    .dataframe tbody tr th:only-of-type {\n",
       "        vertical-align: middle;\n",
       "    }\n",
       "\n",
       "    .dataframe tbody tr th {\n",
       "        vertical-align: top;\n",
       "    }\n",
       "\n",
       "    .dataframe thead th {\n",
       "        text-align: right;\n",
       "    }\n",
       "</style>\n",
       "<table border=\"1\" class=\"dataframe\">\n",
       "  <thead>\n",
       "    <tr style=\"text-align: right;\">\n",
       "      <th></th>\n",
       "      <th>year_month</th>\n",
       "      <th>id</th>\n",
       "      <th>presence</th>\n",
       "      <th>date_debut</th>\n",
       "      <th>date_fin</th>\n",
       "      <th>mois</th>\n",
       "      <th>NB_arret</th>\n",
       "    </tr>\n",
       "  </thead>\n",
       "  <tbody>\n",
       "    <tr>\n",
       "      <th>0</th>\n",
       "      <td>2020-06</td>\n",
       "      <td>6.541784e+15</td>\n",
       "      <td>0</td>\n",
       "      <td>NaT</td>\n",
       "      <td>NaT</td>\n",
       "      <td>2020-06-01</td>\n",
       "      <td>0</td>\n",
       "    </tr>\n",
       "    <tr>\n",
       "      <th>1</th>\n",
       "      <td>2019-12</td>\n",
       "      <td>6.541784e+15</td>\n",
       "      <td>0</td>\n",
       "      <td>NaT</td>\n",
       "      <td>NaT</td>\n",
       "      <td>2019-12-01</td>\n",
       "      <td>0</td>\n",
       "    </tr>\n",
       "    <tr>\n",
       "      <th>2</th>\n",
       "      <td>2020-02</td>\n",
       "      <td>6.541784e+15</td>\n",
       "      <td>0</td>\n",
       "      <td>NaT</td>\n",
       "      <td>NaT</td>\n",
       "      <td>2020-02-01</td>\n",
       "      <td>0</td>\n",
       "    </tr>\n",
       "    <tr>\n",
       "      <th>3</th>\n",
       "      <td>2020-09</td>\n",
       "      <td>6.541784e+15</td>\n",
       "      <td>3</td>\n",
       "      <td>2020-09-28</td>\n",
       "      <td>2020-09-30</td>\n",
       "      <td>2020-09-01</td>\n",
       "      <td>3</td>\n",
       "    </tr>\n",
       "    <tr>\n",
       "      <th>4</th>\n",
       "      <td>2021-11</td>\n",
       "      <td>6.541784e+15</td>\n",
       "      <td>6</td>\n",
       "      <td>2021-11-25</td>\n",
       "      <td>2021-11-30</td>\n",
       "      <td>2021-11-01</td>\n",
       "      <td>6</td>\n",
       "    </tr>\n",
       "    <tr>\n",
       "      <th>...</th>\n",
       "      <td>...</td>\n",
       "      <td>...</td>\n",
       "      <td>...</td>\n",
       "      <td>...</td>\n",
       "      <td>...</td>\n",
       "      <td>...</td>\n",
       "      <td>...</td>\n",
       "    </tr>\n",
       "    <tr>\n",
       "      <th>13804</th>\n",
       "      <td>2016-10</td>\n",
       "      <td>1.841011e+19</td>\n",
       "      <td>31</td>\n",
       "      <td>2016-10-02</td>\n",
       "      <td>2016-10-31</td>\n",
       "      <td>2016-10-01</td>\n",
       "      <td>30</td>\n",
       "    </tr>\n",
       "    <tr>\n",
       "      <th>13805</th>\n",
       "      <td>2014-12</td>\n",
       "      <td>1.841011e+19</td>\n",
       "      <td>31</td>\n",
       "      <td>2014-12-01</td>\n",
       "      <td>2014-12-01</td>\n",
       "      <td>2014-12-01</td>\n",
       "      <td>1</td>\n",
       "    </tr>\n",
       "    <tr>\n",
       "      <th>13806</th>\n",
       "      <td>2014-12</td>\n",
       "      <td>1.841011e+19</td>\n",
       "      <td>31</td>\n",
       "      <td>2014-12-02</td>\n",
       "      <td>2014-12-31</td>\n",
       "      <td>2014-12-01</td>\n",
       "      <td>30</td>\n",
       "    </tr>\n",
       "    <tr>\n",
       "      <th>13807</th>\n",
       "      <td>2018-11</td>\n",
       "      <td>1.841011e+19</td>\n",
       "      <td>30</td>\n",
       "      <td>2018-11-01</td>\n",
       "      <td>2018-11-01</td>\n",
       "      <td>2018-11-01</td>\n",
       "      <td>1</td>\n",
       "    </tr>\n",
       "    <tr>\n",
       "      <th>13808</th>\n",
       "      <td>2018-11</td>\n",
       "      <td>1.841011e+19</td>\n",
       "      <td>30</td>\n",
       "      <td>2018-11-02</td>\n",
       "      <td>2018-11-30</td>\n",
       "      <td>2018-11-01</td>\n",
       "      <td>29</td>\n",
       "    </tr>\n",
       "  </tbody>\n",
       "</table>\n",
       "<p>13809 rows × 7 columns</p>\n",
       "</div>"
      ],
      "text/plain": [
       "      year_month            id  presence date_debut   date_fin       mois  \\\n",
       "0        2020-06  6.541784e+15         0        NaT        NaT 2020-06-01   \n",
       "1        2019-12  6.541784e+15         0        NaT        NaT 2019-12-01   \n",
       "2        2020-02  6.541784e+15         0        NaT        NaT 2020-02-01   \n",
       "3        2020-09  6.541784e+15         3 2020-09-28 2020-09-30 2020-09-01   \n",
       "4        2021-11  6.541784e+15         6 2021-11-25 2021-11-30 2021-11-01   \n",
       "...          ...           ...       ...        ...        ...        ...   \n",
       "13804    2016-10  1.841011e+19        31 2016-10-02 2016-10-31 2016-10-01   \n",
       "13805    2014-12  1.841011e+19        31 2014-12-01 2014-12-01 2014-12-01   \n",
       "13806    2014-12  1.841011e+19        31 2014-12-02 2014-12-31 2014-12-01   \n",
       "13807    2018-11  1.841011e+19        30 2018-11-01 2018-11-01 2018-11-01   \n",
       "13808    2018-11  1.841011e+19        30 2018-11-02 2018-11-30 2018-11-01   \n",
       "\n",
       "       NB_arret  \n",
       "0             0  \n",
       "1             0  \n",
       "2             0  \n",
       "3             3  \n",
       "4             6  \n",
       "...         ...  \n",
       "13804        30  \n",
       "13805         1  \n",
       "13806        30  \n",
       "13807         1  \n",
       "13808        29  \n",
       "\n",
       "[13809 rows x 7 columns]"
      ]
     },
     "execution_count": 46,
     "metadata": {},
     "output_type": "execute_result"
    }
   ],
   "source": [
    "# 1) REORGANISATION DU DATASET INITIAL PAR MOIS D'ABSCENCE : WIDE TO LONG\n",
    "data[\"days_off\"] = data.apply(lambda p: get_days_month(p),axis=1)\n",
    "tmp = data.explode(\"days_off\").reset_index()                          \n",
    "tmp = pd.concat([tmp.drop([\"date_debut\", \"date_fin\"],axis=1) ,\n",
    "                pd.DataFrame(tmp[\"days_off\"].values.tolist(), columns =['date_debut', 'date_fin'])], axis=1)\n",
    "\n",
    "# 2) INCREMENTER CHAQUE DATE DE DEBUT D' UN JOURS SI NOUS AVONS PLUSIEURS PERIODES DE CONGEES SUR PLUSIEURS MOIS\n",
    "tmp[\"debut_fin_shift\"] = tmp.groupby(\"id\")[\"date_fin\"].shift(1)\n",
    "tmp['date_debut'] =np.where(tmp.debut_fin_shift==tmp.date_debut, tmp.date_debut + pd.DateOffset(days=1), tmp.date_debut)\n",
    "\n",
    "# 3)CORRECTION DES ANOMALIES\n",
    "tmp = reorganisation_all(tmp)\n",
    "\n",
    "# 4)ENRICHIR LA BASE PRECEDENTE AVEC LES DONNNES AGGREGES D'ABSCENCE\n",
    "tmp[\"year_month\"] =tmp[\"date_debut\"].dt.strftime(\"%Y-%m\")\n",
    "tmp = pd.merge(dates_presence_agg, tmp, on =['id','year_month'],how='left')\n",
    "tmp[\"mois\"] = pd.to_datetime(tmp.year_month+'-01')\n",
    "tmp['NB_arret'] = (((tmp['date_fin'] - tmp['date_debut']).dt.days +1).fillna(0)).astype(int)\n",
    "tmp"
   ]
  },
  {
   "cell_type": "code",
   "execution_count": 47,
   "id": "2add801e",
   "metadata": {},
   "outputs": [
    {
     "name": "stdout",
     "output_type": "stream",
     "text": [
      "Running time in secondes : 244.2612612247467\n"
     ]
    }
   ],
   "source": [
    "end = time.time()\n",
    "print(\"Running time in secondes :\",end-start)"
   ]
  },
  {
   "cell_type": "code",
   "execution_count": 48,
   "id": "0053f15e",
   "metadata": {},
   "outputs": [
    {
     "data": {
      "text/plain": [
       "46485"
      ]
     },
     "execution_count": 48,
     "metadata": {},
     "output_type": "execute_result"
    }
   ],
   "source": [
    "tmp.NB_arret.sum()"
   ]
  },
  {
   "cell_type": "code",
   "execution_count": 49,
   "id": "26a0edf3",
   "metadata": {},
   "outputs": [
    {
     "data": {
      "text/html": [
       "<div>\n",
       "<style scoped>\n",
       "    .dataframe tbody tr th:only-of-type {\n",
       "        vertical-align: middle;\n",
       "    }\n",
       "\n",
       "    .dataframe tbody tr th {\n",
       "        vertical-align: top;\n",
       "    }\n",
       "\n",
       "    .dataframe thead th {\n",
       "        text-align: right;\n",
       "    }\n",
       "</style>\n",
       "<table border=\"1\" class=\"dataframe\">\n",
       "  <thead>\n",
       "    <tr style=\"text-align: right;\">\n",
       "      <th></th>\n",
       "      <th>year_month</th>\n",
       "      <th>id</th>\n",
       "      <th>presence</th>\n",
       "      <th>date_debut</th>\n",
       "      <th>date_fin</th>\n",
       "      <th>mois</th>\n",
       "      <th>NB_arret</th>\n",
       "    </tr>\n",
       "  </thead>\n",
       "  <tbody>\n",
       "    <tr>\n",
       "      <th>29</th>\n",
       "      <td>2018-06</td>\n",
       "      <td>6.541784e+15</td>\n",
       "      <td>8</td>\n",
       "      <td>2018-06-17</td>\n",
       "      <td>2018-06-24</td>\n",
       "      <td>2018-06-01</td>\n",
       "      <td>8</td>\n",
       "    </tr>\n",
       "    <tr>\n",
       "      <th>7</th>\n",
       "      <td>2018-07</td>\n",
       "      <td>6.541784e+15</td>\n",
       "      <td>0</td>\n",
       "      <td>NaT</td>\n",
       "      <td>NaT</td>\n",
       "      <td>2018-07-01</td>\n",
       "      <td>0</td>\n",
       "    </tr>\n",
       "    <tr>\n",
       "      <th>44</th>\n",
       "      <td>2018-08</td>\n",
       "      <td>6.541784e+15</td>\n",
       "      <td>0</td>\n",
       "      <td>NaT</td>\n",
       "      <td>NaT</td>\n",
       "      <td>2018-08-01</td>\n",
       "      <td>0</td>\n",
       "    </tr>\n",
       "    <tr>\n",
       "      <th>8</th>\n",
       "      <td>2018-09</td>\n",
       "      <td>6.541784e+15</td>\n",
       "      <td>0</td>\n",
       "      <td>NaT</td>\n",
       "      <td>NaT</td>\n",
       "      <td>2018-09-01</td>\n",
       "      <td>0</td>\n",
       "    </tr>\n",
       "    <tr>\n",
       "      <th>21</th>\n",
       "      <td>2018-10</td>\n",
       "      <td>6.541784e+15</td>\n",
       "      <td>0</td>\n",
       "      <td>NaT</td>\n",
       "      <td>NaT</td>\n",
       "      <td>2018-10-01</td>\n",
       "      <td>0</td>\n",
       "    </tr>\n",
       "    <tr>\n",
       "      <th>...</th>\n",
       "      <td>...</td>\n",
       "      <td>...</td>\n",
       "      <td>...</td>\n",
       "      <td>...</td>\n",
       "      <td>...</td>\n",
       "      <td>...</td>\n",
       "      <td>...</td>\n",
       "    </tr>\n",
       "    <tr>\n",
       "      <th>13703</th>\n",
       "      <td>2019-01</td>\n",
       "      <td>1.841011e+19</td>\n",
       "      <td>31</td>\n",
       "      <td>2019-01-02</td>\n",
       "      <td>2019-01-31</td>\n",
       "      <td>2019-01-01</td>\n",
       "      <td>30</td>\n",
       "    </tr>\n",
       "    <tr>\n",
       "      <th>13735</th>\n",
       "      <td>2019-02</td>\n",
       "      <td>1.841011e+19</td>\n",
       "      <td>28</td>\n",
       "      <td>2019-02-01</td>\n",
       "      <td>2019-02-01</td>\n",
       "      <td>2019-02-01</td>\n",
       "      <td>1</td>\n",
       "    </tr>\n",
       "    <tr>\n",
       "      <th>13736</th>\n",
       "      <td>2019-02</td>\n",
       "      <td>1.841011e+19</td>\n",
       "      <td>28</td>\n",
       "      <td>2019-02-02</td>\n",
       "      <td>2019-02-28</td>\n",
       "      <td>2019-02-01</td>\n",
       "      <td>27</td>\n",
       "    </tr>\n",
       "    <tr>\n",
       "      <th>13739</th>\n",
       "      <td>2019-03</td>\n",
       "      <td>1.841011e+19</td>\n",
       "      <td>31</td>\n",
       "      <td>2019-03-01</td>\n",
       "      <td>2019-03-01</td>\n",
       "      <td>2019-03-01</td>\n",
       "      <td>1</td>\n",
       "    </tr>\n",
       "    <tr>\n",
       "      <th>13740</th>\n",
       "      <td>2019-03</td>\n",
       "      <td>1.841011e+19</td>\n",
       "      <td>31</td>\n",
       "      <td>2019-03-02</td>\n",
       "      <td>2019-03-31</td>\n",
       "      <td>2019-03-01</td>\n",
       "      <td>30</td>\n",
       "    </tr>\n",
       "  </tbody>\n",
       "</table>\n",
       "<p>13809 rows × 7 columns</p>\n",
       "</div>"
      ],
      "text/plain": [
       "      year_month            id  presence date_debut   date_fin       mois  \\\n",
       "29       2018-06  6.541784e+15         8 2018-06-17 2018-06-24 2018-06-01   \n",
       "7        2018-07  6.541784e+15         0        NaT        NaT 2018-07-01   \n",
       "44       2018-08  6.541784e+15         0        NaT        NaT 2018-08-01   \n",
       "8        2018-09  6.541784e+15         0        NaT        NaT 2018-09-01   \n",
       "21       2018-10  6.541784e+15         0        NaT        NaT 2018-10-01   \n",
       "...          ...           ...       ...        ...        ...        ...   \n",
       "13703    2019-01  1.841011e+19        31 2019-01-02 2019-01-31 2019-01-01   \n",
       "13735    2019-02  1.841011e+19        28 2019-02-01 2019-02-01 2019-02-01   \n",
       "13736    2019-02  1.841011e+19        28 2019-02-02 2019-02-28 2019-02-01   \n",
       "13739    2019-03  1.841011e+19        31 2019-03-01 2019-03-01 2019-03-01   \n",
       "13740    2019-03  1.841011e+19        31 2019-03-02 2019-03-31 2019-03-01   \n",
       "\n",
       "       NB_arret  \n",
       "29            8  \n",
       "7             0  \n",
       "44            0  \n",
       "8             0  \n",
       "21            0  \n",
       "...         ...  \n",
       "13703        30  \n",
       "13735         1  \n",
       "13736        27  \n",
       "13739         1  \n",
       "13740        30  \n",
       "\n",
       "[13809 rows x 7 columns]"
      ]
     },
     "execution_count": 49,
     "metadata": {},
     "output_type": "execute_result"
    }
   ],
   "source": [
    "tmp = tmp.sort_values(by = ['id', 'mois', 'date_debut', 'date_fin']).reset_index(drop=True)[['id','mois' , 'date_debut', 'date_fin', 'NB_arret']]\n",
    "tmp.to_pickle(\"./OUTPUT/presence_agg.pkl\")"
   ]
  },
  {
   "cell_type": "raw",
   "id": "cfda8e0a",
   "metadata": {},
   "source": [
    "# TO DO:\n",
    "\n",
    "As tu remarqué la table i-dessous au niveau de l'index 45 ou  52?\n",
    "le traitement que j'ai pu faire pour tomber sur la somme exactes de presence m'oblige à accepter cette anomalie.\n",
    "\n",
    "J'ai essayé de grarder la ligne 45 et 46 ensemble c'est- à dire obtenir\n",
    "\n",
    "|   id                   mois     date_debut   date_fin | NB_arret  |\n",
    "|------------------|----------|------------|------------|-----------|\n",
    "|6.541784e+15      |2021-12-01|  2021-12-01| 2021-12-01 | 6         | \n",
    "\n",
    "\n",
    "As tu une solution pour regler ça ?"
   ]
  }
 ],
 "metadata": {
  "kernelspec": {
   "display_name": "Python 3 (ipykernel)",
   "language": "python",
   "name": "python3"
  },
  "language_info": {
   "codemirror_mode": {
    "name": "ipython",
    "version": 3
   },
   "file_extension": ".py",
   "mimetype": "text/x-python",
   "name": "python",
   "nbconvert_exporter": "python",
   "pygments_lexer": "ipython3",
   "version": "3.9.12"
  }
 },
 "nbformat": 4,
 "nbformat_minor": 5
}
