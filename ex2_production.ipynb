{
 "cells": [
  {
   "cell_type": "code",
   "execution_count": 1,
   "id": "c15d08bd",
   "metadata": {},
   "outputs": [],
   "source": [
    "from s2h_utils import *\n",
    "import time"
   ]
  },
  {
   "cell_type": "markdown",
   "id": "a4b9ec15",
   "metadata": {},
   "source": [
    "## Load data"
   ]
  },
  {
   "cell_type": "code",
   "execution_count": 2,
   "id": "f1cfc480",
   "metadata": {},
   "outputs": [],
   "source": [
    "data = pd.read_parquet(\"./INPUT/at_ano2.parquet\")[[\"id\", \"DT_DEB_PER_INA\",\"DT_FIN_PER_INA\"]]\n",
    "data.columns = [\"id\", \"date_debut\", \"date_fin\"]\n",
    "data['date_debut'] = pd.to_datetime(data['date_debut'])\n",
    "data['date_fin'] = pd.to_datetime(data['date_fin'])"
   ]
  },
  {
   "cell_type": "markdown",
   "id": "fed60e90",
   "metadata": {},
   "source": [
    "## REORGANISATION"
   ]
  },
  {
   "cell_type": "code",
   "execution_count": 3,
   "id": "60023806",
   "metadata": {},
   "outputs": [
    {
     "name": "stdout",
     "output_type": "stream",
     "text": [
      "The algorithm stopped after 8 iterations\n"
     ]
    },
    {
     "data": {
      "text/html": [
       "<div>\n",
       "<style scoped>\n",
       "    .dataframe tbody tr th:only-of-type {\n",
       "        vertical-align: middle;\n",
       "    }\n",
       "\n",
       "    .dataframe tbody tr th {\n",
       "        vertical-align: top;\n",
       "    }\n",
       "\n",
       "    .dataframe thead th {\n",
       "        text-align: right;\n",
       "    }\n",
       "</style>\n",
       "<table border=\"1\" class=\"dataframe\">\n",
       "  <thead>\n",
       "    <tr style=\"text-align: right;\">\n",
       "      <th></th>\n",
       "      <th>id</th>\n",
       "      <th>date_debut</th>\n",
       "      <th>date_fin</th>\n",
       "    </tr>\n",
       "  </thead>\n",
       "  <tbody>\n",
       "    <tr>\n",
       "      <th>0</th>\n",
       "      <td>3616707530791252</td>\n",
       "      <td>2017-03-28</td>\n",
       "      <td>2017-03-31</td>\n",
       "    </tr>\n",
       "    <tr>\n",
       "      <th>1</th>\n",
       "      <td>3616707530791252</td>\n",
       "      <td>2018-09-27</td>\n",
       "      <td>2018-10-02</td>\n",
       "    </tr>\n",
       "    <tr>\n",
       "      <th>2</th>\n",
       "      <td>3616707530791252</td>\n",
       "      <td>2019-01-13</td>\n",
       "      <td>2019-01-16</td>\n",
       "    </tr>\n",
       "    <tr>\n",
       "      <th>3</th>\n",
       "      <td>3616707530791252</td>\n",
       "      <td>2019-01-20</td>\n",
       "      <td>2019-01-22</td>\n",
       "    </tr>\n",
       "    <tr>\n",
       "      <th>4</th>\n",
       "      <td>3616707530791252</td>\n",
       "      <td>2020-11-18</td>\n",
       "      <td>2020-11-20</td>\n",
       "    </tr>\n",
       "    <tr>\n",
       "      <th>...</th>\n",
       "      <td>...</td>\n",
       "      <td>...</td>\n",
       "      <td>...</td>\n",
       "    </tr>\n",
       "    <tr>\n",
       "      <th>14412</th>\n",
       "      <td>18441578402327752291</td>\n",
       "      <td>2020-01-21</td>\n",
       "      <td>2020-01-24</td>\n",
       "    </tr>\n",
       "    <tr>\n",
       "      <th>14413</th>\n",
       "      <td>18441578402327752291</td>\n",
       "      <td>2021-10-19</td>\n",
       "      <td>2021-10-21</td>\n",
       "    </tr>\n",
       "    <tr>\n",
       "      <th>14414</th>\n",
       "      <td>18442504685582257412</td>\n",
       "      <td>2020-07-15</td>\n",
       "      <td>2020-07-26</td>\n",
       "    </tr>\n",
       "    <tr>\n",
       "      <th>14415</th>\n",
       "      <td>18442504685582257412</td>\n",
       "      <td>2022-05-04</td>\n",
       "      <td>2022-05-08</td>\n",
       "    </tr>\n",
       "    <tr>\n",
       "      <th>14416</th>\n",
       "      <td>18442504685582257412</td>\n",
       "      <td>2022-08-05</td>\n",
       "      <td>2022-08-26</td>\n",
       "    </tr>\n",
       "  </tbody>\n",
       "</table>\n",
       "<p>14417 rows × 3 columns</p>\n",
       "</div>"
      ],
      "text/plain": [
       "                         id date_debut   date_fin\n",
       "0          3616707530791252 2017-03-28 2017-03-31\n",
       "1          3616707530791252 2018-09-27 2018-10-02\n",
       "2          3616707530791252 2019-01-13 2019-01-16\n",
       "3          3616707530791252 2019-01-20 2019-01-22\n",
       "4          3616707530791252 2020-11-18 2020-11-20\n",
       "...                     ...        ...        ...\n",
       "14412  18441578402327752291 2020-01-21 2020-01-24\n",
       "14413  18441578402327752291 2021-10-19 2021-10-21\n",
       "14414  18442504685582257412 2020-07-15 2020-07-26\n",
       "14415  18442504685582257412 2022-05-04 2022-05-08\n",
       "14416  18442504685582257412 2022-08-05 2022-08-26\n",
       "\n",
       "[14417 rows x 3 columns]"
      ]
     },
     "execution_count": 3,
     "metadata": {},
     "output_type": "execute_result"
    }
   ],
   "source": [
    "data = reorganisation_all(data)\n",
    "data"
   ]
  },
  {
   "cell_type": "markdown",
   "id": "37db8d57",
   "metadata": {},
   "source": [
    "## OUTPUT FINAL"
   ]
  },
  {
   "cell_type": "code",
   "execution_count": 7,
   "id": "190a7b9d",
   "metadata": {},
   "outputs": [
    {
     "name": "stdout",
     "output_type": "stream",
     "text": [
      "Running time in minutes:  36.75571418603261\n"
     ]
    }
   ],
   "source": [
    "start =time.time()\n",
    "presence = Presence(data)\n",
    "a, b = presence.process_presence()\n",
    "end = time.time()\n",
    "print(\"Running time in minutes: \", (end-start)/60)"
   ]
  },
  {
   "cell_type": "code",
   "execution_count": 9,
   "id": "c411cc72",
   "metadata": {},
   "outputs": [
    {
     "data": {
      "text/plain": [
       "360679.0"
      ]
     },
     "execution_count": 9,
     "metadata": {},
     "output_type": "execute_result"
    }
   ],
   "source": [
    "a.presence.sum()"
   ]
  }
 ],
 "metadata": {
  "kernelspec": {
   "display_name": "Python 3 (ipykernel)",
   "language": "python",
   "name": "python3"
  },
  "language_info": {
   "codemirror_mode": {
    "name": "ipython",
    "version": 3
   },
   "file_extension": ".py",
   "mimetype": "text/x-python",
   "name": "python",
   "nbconvert_exporter": "python",
   "pygments_lexer": "ipython3",
   "version": "3.9.12"
  }
 },
 "nbformat": 4,
 "nbformat_minor": 5
}
