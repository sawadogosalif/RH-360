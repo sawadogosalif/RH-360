{
 "cells": [
  {
   "cell_type": "code",
   "execution_count": 1,
   "id": "9bd0014d",
   "metadata": {},
   "outputs": [],
   "source": [
    "import numpy as np  # np mean, np random\n",
    "import pandas as pd  # read csv, df manipulation\n",
    "import plotly.express as px  # interactive charts\n",
    "import streamlit as st  # 🎈 data web app developmen²"
   ]
  },
  {
   "cell_type": "code",
   "execution_count": 44,
   "id": "2d9d74e1",
   "metadata": {},
   "outputs": [],
   "source": [
    "df = pd.read_csv(r\"C:\\Users\\sawal\\OneDrive - UPEC\\Diot-Siaci\\ESSAI.txt\", sep=';' ,header=None)\n",
    "df.columns = [\"entreprise\", \"Commune et Code postal\", \"Activités\", \"Avis\"]\n",
    "df.to_excel(\"liste_entreprise.xlsx\", index=False)"
   ]
  },
  {
   "cell_type": "code",
   "execution_count": null,
   "id": "477948e9",
   "metadata": {},
   "outputs": [],
   "source": [
    "@st.experimental_memo #  caching\n",
    "def get_data_indicator() -> pd.DataFrame:\n",
    "    return \n",
    "\n",
    "@st.experimental_memo #  caching\n",
    "def get_data() -> pd.DataFrame:\n",
    "    df1 =  pd.read_pickle(r\"C:\\Users\\sawal\\OneDrive - UPEC\\Diot-Siaci\\OUTPUT\\presence_anomalies.pkl\")\n",
    "    df2 = pd.read_pickle(r\"C:\\Users\\sawal\\OneDrive - UPEC\\Diot-Siaci\\OUTPUT\\presence_indcator.pkl\")\n",
    "    df3 = pd.read_pickle(r\"C:\\Users\\sawal\\OneDrive - UPEC\\Diot-Siaci\\OUTPUT\\presence_agg.pkl\")\n",
    "    return df1,df2,df3\n",
    "\n",
    "df_indicator, df_anomalies, df_agg = get_data()"
   ]
  },
  {
   "cell_type": "code",
   "execution_count": null,
   "id": "2b69a3c3",
   "metadata": {},
   "outputs": [],
   "source": [
    "# How to do a basic dashboard setup\n",
    "\n",
    "st.set_page_config(\n",
    "    page_title=\"RH 360 Dashboard\",\n",
    "    page_icon=\"✅\",\n",
    "    layout=\"wide\",\n",
    ")"
   ]
  },
  {
   "cell_type": "code",
   "execution_count": null,
   "id": "744c86b4",
   "metadata": {},
   "outputs": [],
   "source": [
    "A typical dashboard contains the following basic UI design components:\n",
    "\n",
    "A page title\n",
    "A top-level filter\n",
    "KPIs/summary cards\n",
    "Interactive charts\n",
    "A data table"
   ]
  },
  {
   "cell_type": "code",
   "execution_count": null,
   "id": "95498c1c",
   "metadata": {},
   "outputs": [],
   "source": [
    "st.title(\"Real-Time / Live Data Science Dashboard\")\n"
   ]
  },
  {
   "cell_type": "code",
   "execution_count": null,
   "id": "2ea046b7",
   "metadata": {},
   "outputs": [],
   "source": [
    "# read csv from a URL\n",
    "@st.experimental_memo\n",
    "def get_data() -> pd.DataFrame:\n",
    "    return pd.read_csv(dataset_url)\n",
    "\n",
    "df = get_data()\n",
    "\n",
    "# dashboard title\n",
    "st.title(\"Real-Time / Live Data Science Dashboard\")\n",
    "\n",
    "# top-level filters\n",
    "filt = st.selectbox(\"Select the Job\", pd.unique(df[\"id\"]))\n",
    "\n",
    "# creating a single-element container\n",
    "placeholder = st.empty()\n",
    "\n",
    "# dataframe fil\n",
    "# top-level filters\n",
    "filtre = st.selectbox(\"Select the id\", pd.unique(df[\"id\"]))\n",
    "# dataframe filter\n",
    "df_indicator = df_indicator[df_indicator[\"id\"] == filtre]\n",
    "df_agg = df_agg[df_agg[\"id\"] == filtre]\n",
    "df_anomalies = df_anomalies[df_anomalies[\"id\"] == filtre]\n",
    "\n",
    "\n",
    "    # creating KPIs\n",
    "    sum_abscence = np.sum(df_indicator[\"presence\"])\n",
    "\n",
    "    ratio_abscence = sum_abscence/ len(df_indicator[\"presence\"]) \n",
    "\n",
    "    periods = len(df_anomalies) \n",
    "\n",
    "    with placeholder.container():\n",
    "\n",
    "        # create three columns\n",
    "        kpi1, kpi2, kpi3 = st.columns()\n",
    "\n",
    "        # fill in those three columns with respective metrics or KPIs\n",
    "        kpi1.metric(\n",
    "            label=\"Nombre total d'abscence ⏳\",\n",
    "            value=int(sum_abscence),\n",
    "        )\n",
    "        \n",
    "        kpi2.metric(\n",
    "            label=\"Taux de depart pou congé\",\n",
    "            value=round(ratio_abscence,2),\n",
    "        )\n",
    "        \n",
    "        kpi3.metric(\n",
    "            label=\"Nombre de périodes de congés\",\n",
    "            value=int(periods),\n",
    "            delta=-10 + count_married,\n",
    "        )\n",
    "        \n",
    "\n",
    "        # create two columns for charts\n",
    "        fig_col1, fig_col2 = st.columns(2)\n",
    "        with fig_col1:\n",
    "            st.markdown(\"### Heatmap periodes d'abscence par collaborateur\")\n",
    "            fig = px.density_heatmap(\n",
    "                data_frame=df_agg, y=\"NB_arret\", x=df_agg['mois'].dt.strftime('%b')\n",
    "            )\n",
    "            st.write(fig)\n",
    "            \n",
    "        with fig_col2:\n",
    "            st.markdown(\"### distribution periodes d'abscence par collaborateur\")\n",
    "            fig2 = px.histogram(data_frame=df_agg, x=\"NB_arret\")\n",
    "            st.write(fig2)\n",
    "\n",
    "        st.markdown(\"### Detailed Data View\")\n",
    "        st.dataframe(df)\n",
    "        time.sleep(1)"
   ]
  },
  {
   "cell_type": "code",
   "execution_count": null,
   "id": "08abcc15",
   "metadata": {},
   "outputs": [],
   "source": [
    "fig = px.density_heatmap(\n",
    "                data_frame=df_agg, y=\"NB_arret\", x=\"mois\"\n",
    "            )"
   ]
  },
  {
   "cell_type": "code",
   "execution_count": null,
   "id": "040da653",
   "metadata": {},
   "outputs": [],
   "source": [
    "df_agg['month_period'] = "
   ]
  },
  {
   "cell_type": "code",
   "execution_count": null,
   "id": "59555c64",
   "metadata": {},
   "outputs": [],
   "source": [
    "fig = px.density_heatmap(\n",
    "                data_frame=df_agg, y=\"NB_arret\", x=df_agg['mois'].dt.strftime('\"%Y-%m'), on =[\"id\", \"year_month\"], how='inner'\n",
    "            )"
   ]
  },
  {
   "cell_type": "code",
   "execution_count": null,
   "id": "50deae0e",
   "metadata": {},
   "outputs": [],
   "source": [
    "external_df[\"year_month\"].dt.strftime(\"%Y-%m\")"
   ]
  },
  {
   "cell_type": "code",
   "execution_count": null,
   "id": "9e0d7597",
   "metadata": {},
   "outputs": [],
   "source": [
    "pd.read_pickle(\"./OUTPUT/presence_external.pkl\")"
   ]
  }
 ],
 "metadata": {
  "kernelspec": {
   "display_name": "Python 3 (ipykernel)",
   "language": "python",
   "name": "python3"
  },
  "language_info": {
   "codemirror_mode": {
    "name": "ipython",
    "version": 3
   },
   "file_extension": ".py",
   "mimetype": "text/x-python",
   "name": "python",
   "nbconvert_exporter": "python",
   "pygments_lexer": "ipython3",
   "version": "3.9.12"
  }
 },
 "nbformat": 4,
 "nbformat_minor": 5
}
